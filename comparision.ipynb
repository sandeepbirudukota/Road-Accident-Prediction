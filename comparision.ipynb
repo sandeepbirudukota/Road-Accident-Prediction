{
  "nbformat": 4,
  "nbformat_minor": 0,
  "metadata": {
    "colab": {
      "name": "comparision.ipynb",
      "provenance": [],
      "collapsed_sections": [],
      "mount_file_id": "12m2oVA42EyzivGC6A4THCpqRoP3ZfGjK",
      "authorship_tag": "ABX9TyN7zZVUZjKuaHQUuCSE5mwW",
      "include_colab_link": true
    },
    "kernelspec": {
      "name": "python3",
      "display_name": "Python 3"
    },
    "language_info": {
      "name": "python"
    }
  },
  "cells": [
    {
      "cell_type": "markdown",
      "metadata": {
        "id": "view-in-github",
        "colab_type": "text"
      },
      "source": [
        "<a href=\"https://colab.research.google.com/github/sandeepbirudukota/Road-Accident-Prediction/blob/main/comparision.ipynb\" target=\"_parent\"><img src=\"https://colab.research.google.com/assets/colab-badge.svg\" alt=\"Open In Colab\"/></a>"
      ]
    },
    {
      "cell_type": "code",
      "execution_count": 42,
      "metadata": {
        "colab": {
          "base_uri": "https://localhost:8080/"
        },
        "id": "puwQs8GXh1-e",
        "outputId": "4a53b9db-8825-456c-ecfb-853d70ac7b5b"
      },
      "outputs": [
        {
          "output_type": "stream",
          "name": "stdout",
          "text": [
            "Drive already mounted at /content/drive; to attempt to forcibly remount, call drive.mount(\"/content/drive\", force_remount=True).\n"
          ]
        }
      ],
      "source": [
        "from google.colab import drive\n",
        "drive.mount('/content/drive')"
      ]
    },
    {
      "cell_type": "code",
      "source": [
        "import numpy as np\n",
        "import pandas as pd\n",
        "import matplotlib.pyplot as plt\n",
        "import seaborn as sns\n",
        "import datetime\n",
        "%matplotlib inline\n",
        "from mpl_toolkits.mplot3d import Axes3D\n",
        "from sklearn.preprocessing import StandardScaler"
      ],
      "metadata": {
        "id": "fLd9r4baiPL6"
      },
      "execution_count": 43,
      "outputs": []
    },
    {
      "cell_type": "code",
      "source": [
        "data = pd.read_csv(\"/content/drive/MyDrive/Colab Notebooks/US_Accidents_Dec21_updated.csv\")\n",
        "data.head(2)"
      ],
      "metadata": {
        "colab": {
          "base_uri": "https://localhost:8080/",
          "height": 310
        },
        "id": "UwL2auAriR-0",
        "outputId": "449c4b03-8e99-4d00-c73f-1dcbe661e30f"
      },
      "execution_count": 44,
      "outputs": [
        {
          "output_type": "execute_result",
          "data": {
            "text/plain": [
              "    ID  Severity           Start_Time             End_Time  Start_Lat  \\\n",
              "0  A-1         3  2016-02-08 00:37:08  2016-02-08 06:37:08   40.10891   \n",
              "1  A-2         2  2016-02-08 05:56:20  2016-02-08 11:56:20   39.86542   \n",
              "\n",
              "   Start_Lng   End_Lat   End_Lng  Distance(mi)  \\\n",
              "0  -83.09286  40.11206 -83.03187         3.230   \n",
              "1  -84.06280  39.86501 -84.04873         0.747   \n",
              "\n",
              "                                         Description  ...  Roundabout Station  \\\n",
              "0  Between Sawmill Rd/Exit 20 and OH-315/Olentang...  ...       False   False   \n",
              "1                 At OH-4/OH-235/Exit 41 - Accident.  ...       False   False   \n",
              "\n",
              "    Stop Traffic_Calming Traffic_Signal Turning_Loop Sunrise_Sunset  \\\n",
              "0  False           False          False        False          Night   \n",
              "1  False           False          False        False          Night   \n",
              "\n",
              "  Civil_Twilight Nautical_Twilight Astronomical_Twilight  \n",
              "0          Night             Night                 Night  \n",
              "1          Night             Night                 Night  \n",
              "\n",
              "[2 rows x 47 columns]"
            ],
            "text/html": [
              "\n",
              "  <div id=\"df-c6b98d0a-be5b-4014-8e2d-3ba2adc1d8ec\">\n",
              "    <div class=\"colab-df-container\">\n",
              "      <div>\n",
              "<style scoped>\n",
              "    .dataframe tbody tr th:only-of-type {\n",
              "        vertical-align: middle;\n",
              "    }\n",
              "\n",
              "    .dataframe tbody tr th {\n",
              "        vertical-align: top;\n",
              "    }\n",
              "\n",
              "    .dataframe thead th {\n",
              "        text-align: right;\n",
              "    }\n",
              "</style>\n",
              "<table border=\"1\" class=\"dataframe\">\n",
              "  <thead>\n",
              "    <tr style=\"text-align: right;\">\n",
              "      <th></th>\n",
              "      <th>ID</th>\n",
              "      <th>Severity</th>\n",
              "      <th>Start_Time</th>\n",
              "      <th>End_Time</th>\n",
              "      <th>Start_Lat</th>\n",
              "      <th>Start_Lng</th>\n",
              "      <th>End_Lat</th>\n",
              "      <th>End_Lng</th>\n",
              "      <th>Distance(mi)</th>\n",
              "      <th>Description</th>\n",
              "      <th>...</th>\n",
              "      <th>Roundabout</th>\n",
              "      <th>Station</th>\n",
              "      <th>Stop</th>\n",
              "      <th>Traffic_Calming</th>\n",
              "      <th>Traffic_Signal</th>\n",
              "      <th>Turning_Loop</th>\n",
              "      <th>Sunrise_Sunset</th>\n",
              "      <th>Civil_Twilight</th>\n",
              "      <th>Nautical_Twilight</th>\n",
              "      <th>Astronomical_Twilight</th>\n",
              "    </tr>\n",
              "  </thead>\n",
              "  <tbody>\n",
              "    <tr>\n",
              "      <th>0</th>\n",
              "      <td>A-1</td>\n",
              "      <td>3</td>\n",
              "      <td>2016-02-08 00:37:08</td>\n",
              "      <td>2016-02-08 06:37:08</td>\n",
              "      <td>40.10891</td>\n",
              "      <td>-83.09286</td>\n",
              "      <td>40.11206</td>\n",
              "      <td>-83.03187</td>\n",
              "      <td>3.230</td>\n",
              "      <td>Between Sawmill Rd/Exit 20 and OH-315/Olentang...</td>\n",
              "      <td>...</td>\n",
              "      <td>False</td>\n",
              "      <td>False</td>\n",
              "      <td>False</td>\n",
              "      <td>False</td>\n",
              "      <td>False</td>\n",
              "      <td>False</td>\n",
              "      <td>Night</td>\n",
              "      <td>Night</td>\n",
              "      <td>Night</td>\n",
              "      <td>Night</td>\n",
              "    </tr>\n",
              "    <tr>\n",
              "      <th>1</th>\n",
              "      <td>A-2</td>\n",
              "      <td>2</td>\n",
              "      <td>2016-02-08 05:56:20</td>\n",
              "      <td>2016-02-08 11:56:20</td>\n",
              "      <td>39.86542</td>\n",
              "      <td>-84.06280</td>\n",
              "      <td>39.86501</td>\n",
              "      <td>-84.04873</td>\n",
              "      <td>0.747</td>\n",
              "      <td>At OH-4/OH-235/Exit 41 - Accident.</td>\n",
              "      <td>...</td>\n",
              "      <td>False</td>\n",
              "      <td>False</td>\n",
              "      <td>False</td>\n",
              "      <td>False</td>\n",
              "      <td>False</td>\n",
              "      <td>False</td>\n",
              "      <td>Night</td>\n",
              "      <td>Night</td>\n",
              "      <td>Night</td>\n",
              "      <td>Night</td>\n",
              "    </tr>\n",
              "  </tbody>\n",
              "</table>\n",
              "<p>2 rows × 47 columns</p>\n",
              "</div>\n",
              "      <button class=\"colab-df-convert\" onclick=\"convertToInteractive('df-c6b98d0a-be5b-4014-8e2d-3ba2adc1d8ec')\"\n",
              "              title=\"Convert this dataframe to an interactive table.\"\n",
              "              style=\"display:none;\">\n",
              "        \n",
              "  <svg xmlns=\"http://www.w3.org/2000/svg\" height=\"24px\"viewBox=\"0 0 24 24\"\n",
              "       width=\"24px\">\n",
              "    <path d=\"M0 0h24v24H0V0z\" fill=\"none\"/>\n",
              "    <path d=\"M18.56 5.44l.94 2.06.94-2.06 2.06-.94-2.06-.94-.94-2.06-.94 2.06-2.06.94zm-11 1L8.5 8.5l.94-2.06 2.06-.94-2.06-.94L8.5 2.5l-.94 2.06-2.06.94zm10 10l.94 2.06.94-2.06 2.06-.94-2.06-.94-.94-2.06-.94 2.06-2.06.94z\"/><path d=\"M17.41 7.96l-1.37-1.37c-.4-.4-.92-.59-1.43-.59-.52 0-1.04.2-1.43.59L10.3 9.45l-7.72 7.72c-.78.78-.78 2.05 0 2.83L4 21.41c.39.39.9.59 1.41.59.51 0 1.02-.2 1.41-.59l7.78-7.78 2.81-2.81c.8-.78.8-2.07 0-2.86zM5.41 20L4 18.59l7.72-7.72 1.47 1.35L5.41 20z\"/>\n",
              "  </svg>\n",
              "      </button>\n",
              "      \n",
              "  <style>\n",
              "    .colab-df-container {\n",
              "      display:flex;\n",
              "      flex-wrap:wrap;\n",
              "      gap: 12px;\n",
              "    }\n",
              "\n",
              "    .colab-df-convert {\n",
              "      background-color: #E8F0FE;\n",
              "      border: none;\n",
              "      border-radius: 50%;\n",
              "      cursor: pointer;\n",
              "      display: none;\n",
              "      fill: #1967D2;\n",
              "      height: 32px;\n",
              "      padding: 0 0 0 0;\n",
              "      width: 32px;\n",
              "    }\n",
              "\n",
              "    .colab-df-convert:hover {\n",
              "      background-color: #E2EBFA;\n",
              "      box-shadow: 0px 1px 2px rgba(60, 64, 67, 0.3), 0px 1px 3px 1px rgba(60, 64, 67, 0.15);\n",
              "      fill: #174EA6;\n",
              "    }\n",
              "\n",
              "    [theme=dark] .colab-df-convert {\n",
              "      background-color: #3B4455;\n",
              "      fill: #D2E3FC;\n",
              "    }\n",
              "\n",
              "    [theme=dark] .colab-df-convert:hover {\n",
              "      background-color: #434B5C;\n",
              "      box-shadow: 0px 1px 3px 1px rgba(0, 0, 0, 0.15);\n",
              "      filter: drop-shadow(0px 1px 2px rgba(0, 0, 0, 0.3));\n",
              "      fill: #FFFFFF;\n",
              "    }\n",
              "  </style>\n",
              "\n",
              "      <script>\n",
              "        const buttonEl =\n",
              "          document.querySelector('#df-c6b98d0a-be5b-4014-8e2d-3ba2adc1d8ec button.colab-df-convert');\n",
              "        buttonEl.style.display =\n",
              "          google.colab.kernel.accessAllowed ? 'block' : 'none';\n",
              "\n",
              "        async function convertToInteractive(key) {\n",
              "          const element = document.querySelector('#df-c6b98d0a-be5b-4014-8e2d-3ba2adc1d8ec');\n",
              "          const dataTable =\n",
              "            await google.colab.kernel.invokeFunction('convertToInteractive',\n",
              "                                                     [key], {});\n",
              "          if (!dataTable) return;\n",
              "\n",
              "          const docLinkHtml = 'Like what you see? Visit the ' +\n",
              "            '<a target=\"_blank\" href=https://colab.research.google.com/notebooks/data_table.ipynb>data table notebook</a>'\n",
              "            + ' to learn more about interactive tables.';\n",
              "          element.innerHTML = '';\n",
              "          dataTable['output_type'] = 'display_data';\n",
              "          await google.colab.output.renderOutput(dataTable, element);\n",
              "          const docLink = document.createElement('div');\n",
              "          docLink.innerHTML = docLinkHtml;\n",
              "          element.appendChild(docLink);\n",
              "        }\n",
              "      </script>\n",
              "    </div>\n",
              "  </div>\n",
              "  "
            ]
          },
          "metadata": {},
          "execution_count": 44
        }
      ]
    },
    {
      "cell_type": "markdown",
      "source": [
        "#Preprocessing"
      ],
      "metadata": {
        "id": "tflbyUzpCuOx"
      }
    },
    {
      "cell_type": "code",
      "source": [
        "X=data.copy()"
      ],
      "metadata": {
        "id": "c0seoZR_ipur"
      },
      "execution_count": 45,
      "outputs": []
    },
    {
      "cell_type": "code",
      "source": [
        "# Cast Start_Time to datetime\n",
        "X[\"Start_Time\"] = pd.to_datetime(X[\"Start_Time\"])\n",
        "\n",
        "# Extract year, month, weekday and day\n",
        "X[\"Year\"] = X[\"Start_Time\"].dt.year\n",
        "X[\"Month\"] = X[\"Start_Time\"].dt.month\n",
        "X[\"Weekday\"] = X[\"Start_Time\"].dt.weekday\n",
        "X[\"Day\"] = X[\"Start_Time\"].dt.day\n",
        "\n",
        "# Extract hour and minute\n",
        "X[\"Hour\"] = X[\"Start_Time\"].dt.hour\n",
        "X[\"Minute\"] = X[\"Start_Time\"].dt.minute\n",
        "\n",
        "X.head()"
      ],
      "metadata": {
        "id": "uEmZ13QiitJe",
        "colab": {
          "base_uri": "https://localhost:8080/",
          "height": 508
        },
        "outputId": "65eee147-9e37-4705-ff2b-67d785876994"
      },
      "execution_count": 46,
      "outputs": [
        {
          "output_type": "execute_result",
          "data": {
            "text/plain": [
              "    ID  Severity          Start_Time             End_Time  Start_Lat  \\\n",
              "0  A-1         3 2016-02-08 00:37:08  2016-02-08 06:37:08  40.108910   \n",
              "1  A-2         2 2016-02-08 05:56:20  2016-02-08 11:56:20  39.865420   \n",
              "2  A-3         2 2016-02-08 06:15:39  2016-02-08 12:15:39  39.102660   \n",
              "3  A-4         2 2016-02-08 06:51:45  2016-02-08 12:51:45  41.062130   \n",
              "4  A-5         3 2016-02-08 07:53:43  2016-02-08 13:53:43  39.172393   \n",
              "\n",
              "   Start_Lng    End_Lat    End_Lng  Distance(mi)  \\\n",
              "0 -83.092860  40.112060 -83.031870         3.230   \n",
              "1 -84.062800  39.865010 -84.048730         0.747   \n",
              "2 -84.524680  39.102090 -84.523960         0.055   \n",
              "3 -81.537840  41.062170 -81.535470         0.123   \n",
              "4 -84.492792  39.170476 -84.501798         0.500   \n",
              "\n",
              "                                         Description  ...  Sunrise_Sunset  \\\n",
              "0  Between Sawmill Rd/Exit 20 and OH-315/Olentang...  ...           Night   \n",
              "1                 At OH-4/OH-235/Exit 41 - Accident.  ...           Night   \n",
              "2                   At I-71/US-50/Exit 1 - Accident.  ...           Night   \n",
              "3                    At Dart Ave/Exit 21 - Accident.  ...           Night   \n",
              "4                 At Mitchell Ave/Exit 6 - Accident.  ...             Day   \n",
              "\n",
              "  Civil_Twilight Nautical_Twilight Astronomical_Twilight  Year Month Weekday  \\\n",
              "0          Night             Night                 Night  2016     2       0   \n",
              "1          Night             Night                 Night  2016     2       0   \n",
              "2          Night             Night                   Day  2016     2       0   \n",
              "3          Night               Day                   Day  2016     2       0   \n",
              "4            Day               Day                   Day  2016     2       0   \n",
              "\n",
              "  Day Hour Minute  \n",
              "0   8    0     37  \n",
              "1   8    5     56  \n",
              "2   8    6     15  \n",
              "3   8    6     51  \n",
              "4   8    7     53  \n",
              "\n",
              "[5 rows x 53 columns]"
            ],
            "text/html": [
              "\n",
              "  <div id=\"df-116b1a17-4284-40f8-9e00-6f7cba305e35\">\n",
              "    <div class=\"colab-df-container\">\n",
              "      <div>\n",
              "<style scoped>\n",
              "    .dataframe tbody tr th:only-of-type {\n",
              "        vertical-align: middle;\n",
              "    }\n",
              "\n",
              "    .dataframe tbody tr th {\n",
              "        vertical-align: top;\n",
              "    }\n",
              "\n",
              "    .dataframe thead th {\n",
              "        text-align: right;\n",
              "    }\n",
              "</style>\n",
              "<table border=\"1\" class=\"dataframe\">\n",
              "  <thead>\n",
              "    <tr style=\"text-align: right;\">\n",
              "      <th></th>\n",
              "      <th>ID</th>\n",
              "      <th>Severity</th>\n",
              "      <th>Start_Time</th>\n",
              "      <th>End_Time</th>\n",
              "      <th>Start_Lat</th>\n",
              "      <th>Start_Lng</th>\n",
              "      <th>End_Lat</th>\n",
              "      <th>End_Lng</th>\n",
              "      <th>Distance(mi)</th>\n",
              "      <th>Description</th>\n",
              "      <th>...</th>\n",
              "      <th>Sunrise_Sunset</th>\n",
              "      <th>Civil_Twilight</th>\n",
              "      <th>Nautical_Twilight</th>\n",
              "      <th>Astronomical_Twilight</th>\n",
              "      <th>Year</th>\n",
              "      <th>Month</th>\n",
              "      <th>Weekday</th>\n",
              "      <th>Day</th>\n",
              "      <th>Hour</th>\n",
              "      <th>Minute</th>\n",
              "    </tr>\n",
              "  </thead>\n",
              "  <tbody>\n",
              "    <tr>\n",
              "      <th>0</th>\n",
              "      <td>A-1</td>\n",
              "      <td>3</td>\n",
              "      <td>2016-02-08 00:37:08</td>\n",
              "      <td>2016-02-08 06:37:08</td>\n",
              "      <td>40.108910</td>\n",
              "      <td>-83.092860</td>\n",
              "      <td>40.112060</td>\n",
              "      <td>-83.031870</td>\n",
              "      <td>3.230</td>\n",
              "      <td>Between Sawmill Rd/Exit 20 and OH-315/Olentang...</td>\n",
              "      <td>...</td>\n",
              "      <td>Night</td>\n",
              "      <td>Night</td>\n",
              "      <td>Night</td>\n",
              "      <td>Night</td>\n",
              "      <td>2016</td>\n",
              "      <td>2</td>\n",
              "      <td>0</td>\n",
              "      <td>8</td>\n",
              "      <td>0</td>\n",
              "      <td>37</td>\n",
              "    </tr>\n",
              "    <tr>\n",
              "      <th>1</th>\n",
              "      <td>A-2</td>\n",
              "      <td>2</td>\n",
              "      <td>2016-02-08 05:56:20</td>\n",
              "      <td>2016-02-08 11:56:20</td>\n",
              "      <td>39.865420</td>\n",
              "      <td>-84.062800</td>\n",
              "      <td>39.865010</td>\n",
              "      <td>-84.048730</td>\n",
              "      <td>0.747</td>\n",
              "      <td>At OH-4/OH-235/Exit 41 - Accident.</td>\n",
              "      <td>...</td>\n",
              "      <td>Night</td>\n",
              "      <td>Night</td>\n",
              "      <td>Night</td>\n",
              "      <td>Night</td>\n",
              "      <td>2016</td>\n",
              "      <td>2</td>\n",
              "      <td>0</td>\n",
              "      <td>8</td>\n",
              "      <td>5</td>\n",
              "      <td>56</td>\n",
              "    </tr>\n",
              "    <tr>\n",
              "      <th>2</th>\n",
              "      <td>A-3</td>\n",
              "      <td>2</td>\n",
              "      <td>2016-02-08 06:15:39</td>\n",
              "      <td>2016-02-08 12:15:39</td>\n",
              "      <td>39.102660</td>\n",
              "      <td>-84.524680</td>\n",
              "      <td>39.102090</td>\n",
              "      <td>-84.523960</td>\n",
              "      <td>0.055</td>\n",
              "      <td>At I-71/US-50/Exit 1 - Accident.</td>\n",
              "      <td>...</td>\n",
              "      <td>Night</td>\n",
              "      <td>Night</td>\n",
              "      <td>Night</td>\n",
              "      <td>Day</td>\n",
              "      <td>2016</td>\n",
              "      <td>2</td>\n",
              "      <td>0</td>\n",
              "      <td>8</td>\n",
              "      <td>6</td>\n",
              "      <td>15</td>\n",
              "    </tr>\n",
              "    <tr>\n",
              "      <th>3</th>\n",
              "      <td>A-4</td>\n",
              "      <td>2</td>\n",
              "      <td>2016-02-08 06:51:45</td>\n",
              "      <td>2016-02-08 12:51:45</td>\n",
              "      <td>41.062130</td>\n",
              "      <td>-81.537840</td>\n",
              "      <td>41.062170</td>\n",
              "      <td>-81.535470</td>\n",
              "      <td>0.123</td>\n",
              "      <td>At Dart Ave/Exit 21 - Accident.</td>\n",
              "      <td>...</td>\n",
              "      <td>Night</td>\n",
              "      <td>Night</td>\n",
              "      <td>Day</td>\n",
              "      <td>Day</td>\n",
              "      <td>2016</td>\n",
              "      <td>2</td>\n",
              "      <td>0</td>\n",
              "      <td>8</td>\n",
              "      <td>6</td>\n",
              "      <td>51</td>\n",
              "    </tr>\n",
              "    <tr>\n",
              "      <th>4</th>\n",
              "      <td>A-5</td>\n",
              "      <td>3</td>\n",
              "      <td>2016-02-08 07:53:43</td>\n",
              "      <td>2016-02-08 13:53:43</td>\n",
              "      <td>39.172393</td>\n",
              "      <td>-84.492792</td>\n",
              "      <td>39.170476</td>\n",
              "      <td>-84.501798</td>\n",
              "      <td>0.500</td>\n",
              "      <td>At Mitchell Ave/Exit 6 - Accident.</td>\n",
              "      <td>...</td>\n",
              "      <td>Day</td>\n",
              "      <td>Day</td>\n",
              "      <td>Day</td>\n",
              "      <td>Day</td>\n",
              "      <td>2016</td>\n",
              "      <td>2</td>\n",
              "      <td>0</td>\n",
              "      <td>8</td>\n",
              "      <td>7</td>\n",
              "      <td>53</td>\n",
              "    </tr>\n",
              "  </tbody>\n",
              "</table>\n",
              "<p>5 rows × 53 columns</p>\n",
              "</div>\n",
              "      <button class=\"colab-df-convert\" onclick=\"convertToInteractive('df-116b1a17-4284-40f8-9e00-6f7cba305e35')\"\n",
              "              title=\"Convert this dataframe to an interactive table.\"\n",
              "              style=\"display:none;\">\n",
              "        \n",
              "  <svg xmlns=\"http://www.w3.org/2000/svg\" height=\"24px\"viewBox=\"0 0 24 24\"\n",
              "       width=\"24px\">\n",
              "    <path d=\"M0 0h24v24H0V0z\" fill=\"none\"/>\n",
              "    <path d=\"M18.56 5.44l.94 2.06.94-2.06 2.06-.94-2.06-.94-.94-2.06-.94 2.06-2.06.94zm-11 1L8.5 8.5l.94-2.06 2.06-.94-2.06-.94L8.5 2.5l-.94 2.06-2.06.94zm10 10l.94 2.06.94-2.06 2.06-.94-2.06-.94-.94-2.06-.94 2.06-2.06.94z\"/><path d=\"M17.41 7.96l-1.37-1.37c-.4-.4-.92-.59-1.43-.59-.52 0-1.04.2-1.43.59L10.3 9.45l-7.72 7.72c-.78.78-.78 2.05 0 2.83L4 21.41c.39.39.9.59 1.41.59.51 0 1.02-.2 1.41-.59l7.78-7.78 2.81-2.81c.8-.78.8-2.07 0-2.86zM5.41 20L4 18.59l7.72-7.72 1.47 1.35L5.41 20z\"/>\n",
              "  </svg>\n",
              "      </button>\n",
              "      \n",
              "  <style>\n",
              "    .colab-df-container {\n",
              "      display:flex;\n",
              "      flex-wrap:wrap;\n",
              "      gap: 12px;\n",
              "    }\n",
              "\n",
              "    .colab-df-convert {\n",
              "      background-color: #E8F0FE;\n",
              "      border: none;\n",
              "      border-radius: 50%;\n",
              "      cursor: pointer;\n",
              "      display: none;\n",
              "      fill: #1967D2;\n",
              "      height: 32px;\n",
              "      padding: 0 0 0 0;\n",
              "      width: 32px;\n",
              "    }\n",
              "\n",
              "    .colab-df-convert:hover {\n",
              "      background-color: #E2EBFA;\n",
              "      box-shadow: 0px 1px 2px rgba(60, 64, 67, 0.3), 0px 1px 3px 1px rgba(60, 64, 67, 0.15);\n",
              "      fill: #174EA6;\n",
              "    }\n",
              "\n",
              "    [theme=dark] .colab-df-convert {\n",
              "      background-color: #3B4455;\n",
              "      fill: #D2E3FC;\n",
              "    }\n",
              "\n",
              "    [theme=dark] .colab-df-convert:hover {\n",
              "      background-color: #434B5C;\n",
              "      box-shadow: 0px 1px 3px 1px rgba(0, 0, 0, 0.15);\n",
              "      filter: drop-shadow(0px 1px 2px rgba(0, 0, 0, 0.3));\n",
              "      fill: #FFFFFF;\n",
              "    }\n",
              "  </style>\n",
              "\n",
              "      <script>\n",
              "        const buttonEl =\n",
              "          document.querySelector('#df-116b1a17-4284-40f8-9e00-6f7cba305e35 button.colab-df-convert');\n",
              "        buttonEl.style.display =\n",
              "          google.colab.kernel.accessAllowed ? 'block' : 'none';\n",
              "\n",
              "        async function convertToInteractive(key) {\n",
              "          const element = document.querySelector('#df-116b1a17-4284-40f8-9e00-6f7cba305e35');\n",
              "          const dataTable =\n",
              "            await google.colab.kernel.invokeFunction('convertToInteractive',\n",
              "                                                     [key], {});\n",
              "          if (!dataTable) return;\n",
              "\n",
              "          const docLinkHtml = 'Like what you see? Visit the ' +\n",
              "            '<a target=\"_blank\" href=https://colab.research.google.com/notebooks/data_table.ipynb>data table notebook</a>'\n",
              "            + ' to learn more about interactive tables.';\n",
              "          element.innerHTML = '';\n",
              "          dataTable['output_type'] = 'display_data';\n",
              "          await google.colab.output.renderOutput(dataTable, element);\n",
              "          const docLink = document.createElement('div');\n",
              "          docLink.innerHTML = docLinkHtml;\n",
              "          element.appendChild(docLink);\n",
              "        }\n",
              "      </script>\n",
              "    </div>\n",
              "  </div>\n",
              "  "
            ]
          },
          "metadata": {},
          "execution_count": 46
        }
      ]
    },
    {
      "cell_type": "code",
      "source": [
        "X.head()"
      ],
      "metadata": {
        "colab": {
          "base_uri": "https://localhost:8080/",
          "height": 508
        },
        "id": "YwkBhTwujF7v",
        "outputId": "73765fdb-5ac3-46fc-d455-161e35261e14"
      },
      "execution_count": 47,
      "outputs": [
        {
          "output_type": "execute_result",
          "data": {
            "text/plain": [
              "    ID  Severity          Start_Time             End_Time  Start_Lat  \\\n",
              "0  A-1         3 2016-02-08 00:37:08  2016-02-08 06:37:08  40.108910   \n",
              "1  A-2         2 2016-02-08 05:56:20  2016-02-08 11:56:20  39.865420   \n",
              "2  A-3         2 2016-02-08 06:15:39  2016-02-08 12:15:39  39.102660   \n",
              "3  A-4         2 2016-02-08 06:51:45  2016-02-08 12:51:45  41.062130   \n",
              "4  A-5         3 2016-02-08 07:53:43  2016-02-08 13:53:43  39.172393   \n",
              "\n",
              "   Start_Lng    End_Lat    End_Lng  Distance(mi)  \\\n",
              "0 -83.092860  40.112060 -83.031870         3.230   \n",
              "1 -84.062800  39.865010 -84.048730         0.747   \n",
              "2 -84.524680  39.102090 -84.523960         0.055   \n",
              "3 -81.537840  41.062170 -81.535470         0.123   \n",
              "4 -84.492792  39.170476 -84.501798         0.500   \n",
              "\n",
              "                                         Description  ...  Sunrise_Sunset  \\\n",
              "0  Between Sawmill Rd/Exit 20 and OH-315/Olentang...  ...           Night   \n",
              "1                 At OH-4/OH-235/Exit 41 - Accident.  ...           Night   \n",
              "2                   At I-71/US-50/Exit 1 - Accident.  ...           Night   \n",
              "3                    At Dart Ave/Exit 21 - Accident.  ...           Night   \n",
              "4                 At Mitchell Ave/Exit 6 - Accident.  ...             Day   \n",
              "\n",
              "  Civil_Twilight Nautical_Twilight Astronomical_Twilight  Year Month Weekday  \\\n",
              "0          Night             Night                 Night  2016     2       0   \n",
              "1          Night             Night                 Night  2016     2       0   \n",
              "2          Night             Night                   Day  2016     2       0   \n",
              "3          Night               Day                   Day  2016     2       0   \n",
              "4            Day               Day                   Day  2016     2       0   \n",
              "\n",
              "  Day Hour Minute  \n",
              "0   8    0     37  \n",
              "1   8    5     56  \n",
              "2   8    6     15  \n",
              "3   8    6     51  \n",
              "4   8    7     53  \n",
              "\n",
              "[5 rows x 53 columns]"
            ],
            "text/html": [
              "\n",
              "  <div id=\"df-f0b537f9-0a95-4434-a672-3e998ae73672\">\n",
              "    <div class=\"colab-df-container\">\n",
              "      <div>\n",
              "<style scoped>\n",
              "    .dataframe tbody tr th:only-of-type {\n",
              "        vertical-align: middle;\n",
              "    }\n",
              "\n",
              "    .dataframe tbody tr th {\n",
              "        vertical-align: top;\n",
              "    }\n",
              "\n",
              "    .dataframe thead th {\n",
              "        text-align: right;\n",
              "    }\n",
              "</style>\n",
              "<table border=\"1\" class=\"dataframe\">\n",
              "  <thead>\n",
              "    <tr style=\"text-align: right;\">\n",
              "      <th></th>\n",
              "      <th>ID</th>\n",
              "      <th>Severity</th>\n",
              "      <th>Start_Time</th>\n",
              "      <th>End_Time</th>\n",
              "      <th>Start_Lat</th>\n",
              "      <th>Start_Lng</th>\n",
              "      <th>End_Lat</th>\n",
              "      <th>End_Lng</th>\n",
              "      <th>Distance(mi)</th>\n",
              "      <th>Description</th>\n",
              "      <th>...</th>\n",
              "      <th>Sunrise_Sunset</th>\n",
              "      <th>Civil_Twilight</th>\n",
              "      <th>Nautical_Twilight</th>\n",
              "      <th>Astronomical_Twilight</th>\n",
              "      <th>Year</th>\n",
              "      <th>Month</th>\n",
              "      <th>Weekday</th>\n",
              "      <th>Day</th>\n",
              "      <th>Hour</th>\n",
              "      <th>Minute</th>\n",
              "    </tr>\n",
              "  </thead>\n",
              "  <tbody>\n",
              "    <tr>\n",
              "      <th>0</th>\n",
              "      <td>A-1</td>\n",
              "      <td>3</td>\n",
              "      <td>2016-02-08 00:37:08</td>\n",
              "      <td>2016-02-08 06:37:08</td>\n",
              "      <td>40.108910</td>\n",
              "      <td>-83.092860</td>\n",
              "      <td>40.112060</td>\n",
              "      <td>-83.031870</td>\n",
              "      <td>3.230</td>\n",
              "      <td>Between Sawmill Rd/Exit 20 and OH-315/Olentang...</td>\n",
              "      <td>...</td>\n",
              "      <td>Night</td>\n",
              "      <td>Night</td>\n",
              "      <td>Night</td>\n",
              "      <td>Night</td>\n",
              "      <td>2016</td>\n",
              "      <td>2</td>\n",
              "      <td>0</td>\n",
              "      <td>8</td>\n",
              "      <td>0</td>\n",
              "      <td>37</td>\n",
              "    </tr>\n",
              "    <tr>\n",
              "      <th>1</th>\n",
              "      <td>A-2</td>\n",
              "      <td>2</td>\n",
              "      <td>2016-02-08 05:56:20</td>\n",
              "      <td>2016-02-08 11:56:20</td>\n",
              "      <td>39.865420</td>\n",
              "      <td>-84.062800</td>\n",
              "      <td>39.865010</td>\n",
              "      <td>-84.048730</td>\n",
              "      <td>0.747</td>\n",
              "      <td>At OH-4/OH-235/Exit 41 - Accident.</td>\n",
              "      <td>...</td>\n",
              "      <td>Night</td>\n",
              "      <td>Night</td>\n",
              "      <td>Night</td>\n",
              "      <td>Night</td>\n",
              "      <td>2016</td>\n",
              "      <td>2</td>\n",
              "      <td>0</td>\n",
              "      <td>8</td>\n",
              "      <td>5</td>\n",
              "      <td>56</td>\n",
              "    </tr>\n",
              "    <tr>\n",
              "      <th>2</th>\n",
              "      <td>A-3</td>\n",
              "      <td>2</td>\n",
              "      <td>2016-02-08 06:15:39</td>\n",
              "      <td>2016-02-08 12:15:39</td>\n",
              "      <td>39.102660</td>\n",
              "      <td>-84.524680</td>\n",
              "      <td>39.102090</td>\n",
              "      <td>-84.523960</td>\n",
              "      <td>0.055</td>\n",
              "      <td>At I-71/US-50/Exit 1 - Accident.</td>\n",
              "      <td>...</td>\n",
              "      <td>Night</td>\n",
              "      <td>Night</td>\n",
              "      <td>Night</td>\n",
              "      <td>Day</td>\n",
              "      <td>2016</td>\n",
              "      <td>2</td>\n",
              "      <td>0</td>\n",
              "      <td>8</td>\n",
              "      <td>6</td>\n",
              "      <td>15</td>\n",
              "    </tr>\n",
              "    <tr>\n",
              "      <th>3</th>\n",
              "      <td>A-4</td>\n",
              "      <td>2</td>\n",
              "      <td>2016-02-08 06:51:45</td>\n",
              "      <td>2016-02-08 12:51:45</td>\n",
              "      <td>41.062130</td>\n",
              "      <td>-81.537840</td>\n",
              "      <td>41.062170</td>\n",
              "      <td>-81.535470</td>\n",
              "      <td>0.123</td>\n",
              "      <td>At Dart Ave/Exit 21 - Accident.</td>\n",
              "      <td>...</td>\n",
              "      <td>Night</td>\n",
              "      <td>Night</td>\n",
              "      <td>Day</td>\n",
              "      <td>Day</td>\n",
              "      <td>2016</td>\n",
              "      <td>2</td>\n",
              "      <td>0</td>\n",
              "      <td>8</td>\n",
              "      <td>6</td>\n",
              "      <td>51</td>\n",
              "    </tr>\n",
              "    <tr>\n",
              "      <th>4</th>\n",
              "      <td>A-5</td>\n",
              "      <td>3</td>\n",
              "      <td>2016-02-08 07:53:43</td>\n",
              "      <td>2016-02-08 13:53:43</td>\n",
              "      <td>39.172393</td>\n",
              "      <td>-84.492792</td>\n",
              "      <td>39.170476</td>\n",
              "      <td>-84.501798</td>\n",
              "      <td>0.500</td>\n",
              "      <td>At Mitchell Ave/Exit 6 - Accident.</td>\n",
              "      <td>...</td>\n",
              "      <td>Day</td>\n",
              "      <td>Day</td>\n",
              "      <td>Day</td>\n",
              "      <td>Day</td>\n",
              "      <td>2016</td>\n",
              "      <td>2</td>\n",
              "      <td>0</td>\n",
              "      <td>8</td>\n",
              "      <td>7</td>\n",
              "      <td>53</td>\n",
              "    </tr>\n",
              "  </tbody>\n",
              "</table>\n",
              "<p>5 rows × 53 columns</p>\n",
              "</div>\n",
              "      <button class=\"colab-df-convert\" onclick=\"convertToInteractive('df-f0b537f9-0a95-4434-a672-3e998ae73672')\"\n",
              "              title=\"Convert this dataframe to an interactive table.\"\n",
              "              style=\"display:none;\">\n",
              "        \n",
              "  <svg xmlns=\"http://www.w3.org/2000/svg\" height=\"24px\"viewBox=\"0 0 24 24\"\n",
              "       width=\"24px\">\n",
              "    <path d=\"M0 0h24v24H0V0z\" fill=\"none\"/>\n",
              "    <path d=\"M18.56 5.44l.94 2.06.94-2.06 2.06-.94-2.06-.94-.94-2.06-.94 2.06-2.06.94zm-11 1L8.5 8.5l.94-2.06 2.06-.94-2.06-.94L8.5 2.5l-.94 2.06-2.06.94zm10 10l.94 2.06.94-2.06 2.06-.94-2.06-.94-.94-2.06-.94 2.06-2.06.94z\"/><path d=\"M17.41 7.96l-1.37-1.37c-.4-.4-.92-.59-1.43-.59-.52 0-1.04.2-1.43.59L10.3 9.45l-7.72 7.72c-.78.78-.78 2.05 0 2.83L4 21.41c.39.39.9.59 1.41.59.51 0 1.02-.2 1.41-.59l7.78-7.78 2.81-2.81c.8-.78.8-2.07 0-2.86zM5.41 20L4 18.59l7.72-7.72 1.47 1.35L5.41 20z\"/>\n",
              "  </svg>\n",
              "      </button>\n",
              "      \n",
              "  <style>\n",
              "    .colab-df-container {\n",
              "      display:flex;\n",
              "      flex-wrap:wrap;\n",
              "      gap: 12px;\n",
              "    }\n",
              "\n",
              "    .colab-df-convert {\n",
              "      background-color: #E8F0FE;\n",
              "      border: none;\n",
              "      border-radius: 50%;\n",
              "      cursor: pointer;\n",
              "      display: none;\n",
              "      fill: #1967D2;\n",
              "      height: 32px;\n",
              "      padding: 0 0 0 0;\n",
              "      width: 32px;\n",
              "    }\n",
              "\n",
              "    .colab-df-convert:hover {\n",
              "      background-color: #E2EBFA;\n",
              "      box-shadow: 0px 1px 2px rgba(60, 64, 67, 0.3), 0px 1px 3px 1px rgba(60, 64, 67, 0.15);\n",
              "      fill: #174EA6;\n",
              "    }\n",
              "\n",
              "    [theme=dark] .colab-df-convert {\n",
              "      background-color: #3B4455;\n",
              "      fill: #D2E3FC;\n",
              "    }\n",
              "\n",
              "    [theme=dark] .colab-df-convert:hover {\n",
              "      background-color: #434B5C;\n",
              "      box-shadow: 0px 1px 3px 1px rgba(0, 0, 0, 0.15);\n",
              "      filter: drop-shadow(0px 1px 2px rgba(0, 0, 0, 0.3));\n",
              "      fill: #FFFFFF;\n",
              "    }\n",
              "  </style>\n",
              "\n",
              "      <script>\n",
              "        const buttonEl =\n",
              "          document.querySelector('#df-f0b537f9-0a95-4434-a672-3e998ae73672 button.colab-df-convert');\n",
              "        buttonEl.style.display =\n",
              "          google.colab.kernel.accessAllowed ? 'block' : 'none';\n",
              "\n",
              "        async function convertToInteractive(key) {\n",
              "          const element = document.querySelector('#df-f0b537f9-0a95-4434-a672-3e998ae73672');\n",
              "          const dataTable =\n",
              "            await google.colab.kernel.invokeFunction('convertToInteractive',\n",
              "                                                     [key], {});\n",
              "          if (!dataTable) return;\n",
              "\n",
              "          const docLinkHtml = 'Like what you see? Visit the ' +\n",
              "            '<a target=\"_blank\" href=https://colab.research.google.com/notebooks/data_table.ipynb>data table notebook</a>'\n",
              "            + ' to learn more about interactive tables.';\n",
              "          element.innerHTML = '';\n",
              "          dataTable['output_type'] = 'display_data';\n",
              "          await google.colab.output.renderOutput(dataTable, element);\n",
              "          const docLink = document.createElement('div');\n",
              "          docLink.innerHTML = docLinkHtml;\n",
              "          element.appendChild(docLink);\n",
              "        }\n",
              "      </script>\n",
              "    </div>\n",
              "  </div>\n",
              "  "
            ]
          },
          "metadata": {},
          "execution_count": 47
        }
      ]
    },
    {
      "cell_type": "code",
      "source": [
        "corr_matrix = X.corr()\n",
        "\n",
        "plt.figure(figsize=(15, 10))\n",
        "sns.heatmap(corr_matrix, vmin=-1, vmax=1, cmap=\"seismic\")\n",
        "plt.gca().patch.set(hatch=\"X\", edgecolor=\"#666\")\n",
        "plt.show()"
      ],
      "metadata": {
        "colab": {
          "base_uri": "https://localhost:8080/",
          "height": 677
        },
        "id": "Iq-N-vDBjOpF",
        "outputId": "c7ff8b2e-0347-44aa-cd86-7d26ca878600"
      },
      "execution_count": 48,
      "outputs": [
        {
          "output_type": "display_data",
          "data": {
            "text/plain": [
              "<Figure size 1080x720 with 2 Axes>"
            ],
            "image/png": "[encoded data removed]"
          },
          "metadata": {
            "needs_background": "light"
          }
        }
      ]
    },
    {
      "cell_type": "markdown",
      "source": [
        "start and end GPS coordinates of the accidents are highly correlated.\n",
        "\n",
        "we can consider just one of them for the machine learning models.\n",
        "\n",
        "wind chill (temperature) is directly proportional to the temperature, so we can also drop one of them.\n"
      ],
      "metadata": {
        "id": "K3b9dMAdkOJK"
      }
    },
    {
      "cell_type": "markdown",
      "source": [
        "So, we can drop\n",
        "\n",
        "End_Lat and End_Lng\n",
        "\n",
        "Wind Chill \n",
        "\n",
        "Turning_loop"
      ],
      "metadata": {
        "id": "e0_r9vKykzAY"
      }
    },
    {
      "cell_type": "markdown",
      "source": [
        "We can also drop features\n",
        "\n",
        "ID-  since they dont carry any information.\n",
        "\n",
        "Start_Time: because it was decomposed by the time features added before (day, month, weekday)\n",
        "\n",
        "End_Time: beause we can not know when traffic going to clear.\n",
        "\n",
        "Description: most description only report the name of the road of the accident, so decided to omit the feature.\n",
        "\n",
        "Number, Street, County, State, Zipcode, Country: there are lots of unique values for street. There are lot of null values for number. And moreover we just focus on the City where the accident happened\n",
        "\n",
        "Timezone, Airport_Code, Weather_Timestamp: because they are irrelevant for our task.\n",
        "\n",
        "Turning_Loop: since it's always False\n",
        "\n",
        "Sunrise_Sunset, Nautical_Twilight, Astronomical_Twilight: because they are redundant"
      ],
      "metadata": {
        "id": "loXE7DnXpp1D"
      }
    },
    {
      "cell_type": "code",
      "source": [
        "features_to_drop = [\"ID\", \"Start_Time\", \"End_Time\", \"End_Lat\", \"End_Lng\", \"Description\", \"Number\", \"Street\", \"County\", \"State\", \"Zipcode\", \"Country\", \"Timezone\", \"Airport_Code\", \"Weather_Timestamp\", \"Wind_Chill(F)\", \"Turning_Loop\", \"Sunrise_Sunset\", \"Nautical_Twilight\", \"Astronomical_Twilight\"]\n",
        "X = X.drop(features_to_drop, axis=1)\n",
        "X.head()"
      ],
      "metadata": {
        "colab": {
          "base_uri": "https://localhost:8080/",
          "height": 300
        },
        "id": "nnVM5VC_kNgb",
        "outputId": "5583c545-f5da-4fad-f14b-3af20d366ff8"
      },
      "execution_count": 49,
      "outputs": [
        {
          "output_type": "execute_result",
          "data": {
            "text/plain": [
              "   Severity  Start_Lat  Start_Lng  Distance(mi) Side        City  \\\n",
              "0         3  40.108910 -83.092860         3.230    R      Dublin   \n",
              "1         2  39.865420 -84.062800         0.747    R      Dayton   \n",
              "2         2  39.102660 -84.524680         0.055    R  Cincinnati   \n",
              "3         2  41.062130 -81.537840         0.123    R       Akron   \n",
              "4         3  39.172393 -84.492792         0.500    R  Cincinnati   \n",
              "\n",
              "   Temperature(F)  Humidity(%)  Pressure(in)  Visibility(mi)  ...   Stop  \\\n",
              "0            42.1         58.0         29.76            10.0  ...  False   \n",
              "1            36.9         91.0         29.68            10.0  ...  False   \n",
              "2            36.0         97.0         29.70            10.0  ...  False   \n",
              "3            39.0         55.0         29.65            10.0  ...  False   \n",
              "4            37.0         93.0         29.69            10.0  ...  False   \n",
              "\n",
              "   Traffic_Calming  Traffic_Signal Civil_Twilight  Year  Month  Weekday  Day  \\\n",
              "0            False           False          Night  2016      2        0    8   \n",
              "1            False           False          Night  2016      2        0    8   \n",
              "2            False           False          Night  2016      2        0    8   \n",
              "3            False           False          Night  2016      2        0    8   \n",
              "4            False           False            Day  2016      2        0    8   \n",
              "\n",
              "   Hour  Minute  \n",
              "0     0      37  \n",
              "1     5      56  \n",
              "2     6      15  \n",
              "3     6      51  \n",
              "4     7      53  \n",
              "\n",
              "[5 rows x 33 columns]"
            ],
            "text/html": [
              "\n",
              "  <div id=\"df-44cb399d-0c6a-4228-b224-cf9fb43762e8\">\n",
              "    <div class=\"colab-df-container\">\n",
              "      <div>\n",
              "<style scoped>\n",
              "    .dataframe tbody tr th:only-of-type {\n",
              "        vertical-align: middle;\n",
              "    }\n",
              "\n",
              "    .dataframe tbody tr th {\n",
              "        vertical-align: top;\n",
              "    }\n",
              "\n",
              "    .dataframe thead th {\n",
              "        text-align: right;\n",
              "    }\n",
              "</style>\n",
              "<table border=\"1\" class=\"dataframe\">\n",
              "  <thead>\n",
              "    <tr style=\"text-align: right;\">\n",
              "      <th></th>\n",
              "      <th>Severity</th>\n",
              "      <th>Start_Lat</th>\n",
              "      <th>Start_Lng</th>\n",
              "      <th>Distance(mi)</th>\n",
              "      <th>Side</th>\n",
              "      <th>City</th>\n",
              "      <th>Temperature(F)</th>\n",
              "      <th>Humidity(%)</th>\n",
              "      <th>Pressure(in)</th>\n",
              "      <th>Visibility(mi)</th>\n",
              "      <th>...</th>\n",
              "      <th>Stop</th>\n",
              "      <th>Traffic_Calming</th>\n",
              "      <th>Traffic_Signal</th>\n",
              "      <th>Civil_Twilight</th>\n",
              "      <th>Year</th>\n",
              "      <th>Month</th>\n",
              "      <th>Weekday</th>\n",
              "      <th>Day</th>\n",
              "      <th>Hour</th>\n",
              "      <th>Minute</th>\n",
              "    </tr>\n",
              "  </thead>\n",
              "  <tbody>\n",
              "    <tr>\n",
              "      <th>0</th>\n",
              "      <td>3</td>\n",
              "      <td>40.108910</td>\n",
              "      <td>-83.092860</td>\n",
              "      <td>3.230</td>\n",
              "      <td>R</td>\n",
              "      <td>Dublin</td>\n",
              "      <td>42.1</td>\n",
              "      <td>58.0</td>\n",
              "      <td>29.76</td>\n",
              "      <td>10.0</td>\n",
              "      <td>...</td>\n",
              "      <td>False</td>\n",
              "      <td>False</td>\n",
              "      <td>False</td>\n",
              "      <td>Night</td>\n",
              "      <td>2016</td>\n",
              "      <td>2</td>\n",
              "      <td>0</td>\n",
              "      <td>8</td>\n",
              "      <td>0</td>\n",
              "      <td>37</td>\n",
              "    </tr>\n",
              "    <tr>\n",
              "      <th>1</th>\n",
              "      <td>2</td>\n",
              "      <td>39.865420</td>\n",
              "      <td>-84.062800</td>\n",
              "      <td>0.747</td>\n",
              "      <td>R</td>\n",
              "      <td>Dayton</td>\n",
              "      <td>36.9</td>\n",
              "      <td>91.0</td>\n",
              "      <td>29.68</td>\n",
              "      <td>10.0</td>\n",
              "      <td>...</td>\n",
              "      <td>False</td>\n",
              "      <td>False</td>\n",
              "      <td>False</td>\n",
              "      <td>Night</td>\n",
              "      <td>2016</td>\n",
              "      <td>2</td>\n",
              "      <td>0</td>\n",
              "      <td>8</td>\n",
              "      <td>5</td>\n",
              "      <td>56</td>\n",
              "    </tr>\n",
              "    <tr>\n",
              "      <th>2</th>\n",
              "      <td>2</td>\n",
              "      <td>39.102660</td>\n",
              "      <td>-84.524680</td>\n",
              "      <td>0.055</td>\n",
              "      <td>R</td>\n",
              "      <td>Cincinnati</td>\n",
              "      <td>36.0</td>\n",
              "      <td>97.0</td>\n",
              "      <td>29.70</td>\n",
              "      <td>10.0</td>\n",
              "      <td>...</td>\n",
              "      <td>False</td>\n",
              "      <td>False</td>\n",
              "      <td>False</td>\n",
              "      <td>Night</td>\n",
              "      <td>2016</td>\n",
              "      <td>2</td>\n",
              "      <td>0</td>\n",
              "      <td>8</td>\n",
              "      <td>6</td>\n",
              "      <td>15</td>\n",
              "    </tr>\n",
              "    <tr>\n",
              "      <th>3</th>\n",
              "      <td>2</td>\n",
              "      <td>41.062130</td>\n",
              "      <td>-81.537840</td>\n",
              "      <td>0.123</td>\n",
              "      <td>R</td>\n",
              "      <td>Akron</td>\n",
              "      <td>39.0</td>\n",
              "      <td>55.0</td>\n",
              "      <td>29.65</td>\n",
              "      <td>10.0</td>\n",
              "      <td>...</td>\n",
              "      <td>False</td>\n",
              "      <td>False</td>\n",
              "      <td>False</td>\n",
              "      <td>Night</td>\n",
              "      <td>2016</td>\n",
              "      <td>2</td>\n",
              "      <td>0</td>\n",
              "      <td>8</td>\n",
              "      <td>6</td>\n",
              "      <td>51</td>\n",
              "    </tr>\n",
              "    <tr>\n",
              "      <th>4</th>\n",
              "      <td>3</td>\n",
              "      <td>39.172393</td>\n",
              "      <td>-84.492792</td>\n",
              "      <td>0.500</td>\n",
              "      <td>R</td>\n",
              "      <td>Cincinnati</td>\n",
              "      <td>37.0</td>\n",
              "      <td>93.0</td>\n",
              "      <td>29.69</td>\n",
              "      <td>10.0</td>\n",
              "      <td>...</td>\n",
              "      <td>False</td>\n",
              "      <td>False</td>\n",
              "      <td>False</td>\n",
              "      <td>Day</td>\n",
              "      <td>2016</td>\n",
              "      <td>2</td>\n",
              "      <td>0</td>\n",
              "      <td>8</td>\n",
              "      <td>7</td>\n",
              "      <td>53</td>\n",
              "    </tr>\n",
              "  </tbody>\n",
              "</table>\n",
              "<p>5 rows × 33 columns</p>\n",
              "</div>\n",
              "      <button class=\"colab-df-convert\" onclick=\"convertToInteractive('df-44cb399d-0c6a-4228-b224-cf9fb43762e8')\"\n",
              "              title=\"Convert this dataframe to an interactive table.\"\n",
              "              style=\"display:none;\">\n",
              "        \n",
              "  <svg xmlns=\"http://www.w3.org/2000/svg\" height=\"24px\"viewBox=\"0 0 24 24\"\n",
              "       width=\"24px\">\n",
              "    <path d=\"M0 0h24v24H0V0z\" fill=\"none\"/>\n",
              "    <path d=\"M18.56 5.44l.94 2.06.94-2.06 2.06-.94-2.06-.94-.94-2.06-.94 2.06-2.06.94zm-11 1L8.5 8.5l.94-2.06 2.06-.94-2.06-.94L8.5 2.5l-.94 2.06-2.06.94zm10 10l.94 2.06.94-2.06 2.06-.94-2.06-.94-.94-2.06-.94 2.06-2.06.94z\"/><path d=\"M17.41 7.96l-1.37-1.37c-.4-.4-.92-.59-1.43-.59-.52 0-1.04.2-1.43.59L10.3 9.45l-7.72 7.72c-.78.78-.78 2.05 0 2.83L4 21.41c.39.39.9.59 1.41.59.51 0 1.02-.2 1.41-.59l7.78-7.78 2.81-2.81c.8-.78.8-2.07 0-2.86zM5.41 20L4 18.59l7.72-7.72 1.47 1.35L5.41 20z\"/>\n",
              "  </svg>\n",
              "      </button>\n",
              "      \n",
              "  <style>\n",
              "    .colab-df-container {\n",
              "      display:flex;\n",
              "      flex-wrap:wrap;\n",
              "      gap: 12px;\n",
              "    }\n",
              "\n",
              "    .colab-df-convert {\n",
              "      background-color: #E8F0FE;\n",
              "      border: none;\n",
              "      border-radius: 50%;\n",
              "      cursor: pointer;\n",
              "      display: none;\n",
              "      fill: #1967D2;\n",
              "      height: 32px;\n",
              "      padding: 0 0 0 0;\n",
              "      width: 32px;\n",
              "    }\n",
              "\n",
              "    .colab-df-convert:hover {\n",
              "      background-color: #E2EBFA;\n",
              "      box-shadow: 0px 1px 2px rgba(60, 64, 67, 0.3), 0px 1px 3px 1px rgba(60, 64, 67, 0.15);\n",
              "      fill: #174EA6;\n",
              "    }\n",
              "\n",
              "    [theme=dark] .colab-df-convert {\n",
              "      background-color: #3B4455;\n",
              "      fill: #D2E3FC;\n",
              "    }\n",
              "\n",
              "    [theme=dark] .colab-df-convert:hover {\n",
              "      background-color: #434B5C;\n",
              "      box-shadow: 0px 1px 3px 1px rgba(0, 0, 0, 0.15);\n",
              "      filter: drop-shadow(0px 1px 2px rgba(0, 0, 0, 0.3));\n",
              "      fill: #FFFFFF;\n",
              "    }\n",
              "  </style>\n",
              "\n",
              "      <script>\n",
              "        const buttonEl =\n",
              "          document.querySelector('#df-44cb399d-0c6a-4228-b224-cf9fb43762e8 button.colab-df-convert');\n",
              "        buttonEl.style.display =\n",
              "          google.colab.kernel.accessAllowed ? 'block' : 'none';\n",
              "\n",
              "        async function convertToInteractive(key) {\n",
              "          const element = document.querySelector('#df-44cb399d-0c6a-4228-b224-cf9fb43762e8');\n",
              "          const dataTable =\n",
              "            await google.colab.kernel.invokeFunction('convertToInteractive',\n",
              "                                                     [key], {});\n",
              "          if (!dataTable) return;\n",
              "\n",
              "          const docLinkHtml = 'Like what you see? Visit the ' +\n",
              "            '<a target=\"_blank\" href=https://colab.research.google.com/notebooks/data_table.ipynb>data table notebook</a>'\n",
              "            + ' to learn more about interactive tables.';\n",
              "          element.innerHTML = '';\n",
              "          dataTable['output_type'] = 'display_data';\n",
              "          await google.colab.output.renderOutput(dataTable, element);\n",
              "          const docLink = document.createElement('div');\n",
              "          docLink.innerHTML = docLinkHtml;\n",
              "          element.appendChild(docLink);\n",
              "        }\n",
              "      </script>\n",
              "    </div>\n",
              "  </div>\n",
              "  "
            ]
          },
          "metadata": {},
          "execution_count": 49
        }
      ]
    },
    {
      "cell_type": "code",
      "source": [
        "X.shape"
      ],
      "metadata": {
        "colab": {
          "base_uri": "https://localhost:8080/"
        },
        "id": "OLqKKCosy-Ie",
        "outputId": "65dcf0d8-c67d-436d-aedf-b739d24c3563"
      },
      "execution_count": 50,
      "outputs": [
        {
          "output_type": "execute_result",
          "data": {
            "text/plain": [
              "(2845342, 33)"
            ]
          },
          "metadata": {},
          "execution_count": 50
        }
      ]
    },
    {
      "cell_type": "markdown",
      "source": [
        "Remove Duplicates"
      ],
      "metadata": {
        "id": "JHYQGtGqz5vB"
      }
    },
    {
      "cell_type": "code",
      "source": [
        "X.drop_duplicates(inplace=True)"
      ],
      "metadata": {
        "id": "XkEgF0PWz4tq"
      },
      "execution_count": 51,
      "outputs": []
    },
    {
      "cell_type": "code",
      "source": [
        "X.shape"
      ],
      "metadata": {
        "colab": {
          "base_uri": "https://localhost:8080/"
        },
        "id": "APtaqxE30CXo",
        "outputId": "639cb998-c5d0-451b-a92d-cbe7a81cee69"
      },
      "execution_count": 52,
      "outputs": [
        {
          "output_type": "execute_result",
          "data": {
            "text/plain": [
              "(2646365, 33)"
            ]
          },
          "metadata": {},
          "execution_count": 52
        }
      ]
    },
    {
      "cell_type": "code",
      "source": [
        "X.nunique()"
      ],
      "metadata": {
        "colab": {
          "base_uri": "https://localhost:8080/"
        },
        "id": "DAFKRdAq164H",
        "outputId": "d7eaf610-baeb-4551-eb96-81d6b5fe4249"
      },
      "execution_count": 53,
      "outputs": [
        {
          "output_type": "execute_result",
          "data": {
            "text/plain": [
              "Severity                   4\n",
              "Start_Lat            1093618\n",
              "Start_Lng            1120365\n",
              "Distance(mi)           14165\n",
              "Side                       3\n",
              "City                   11681\n",
              "Temperature(F)           788\n",
              "Humidity(%)              100\n",
              "Pressure(in)            1068\n",
              "Visibility(mi)            76\n",
              "Wind_Direction            24\n",
              "Wind_Speed(mph)          136\n",
              "Precipitation(in)        230\n",
              "Weather_Condition        127\n",
              "Amenity                    2\n",
              "Bump                       2\n",
              "Crossing                   2\n",
              "Give_Way                   2\n",
              "Junction                   2\n",
              "No_Exit                    2\n",
              "Railway                    2\n",
              "Roundabout                 2\n",
              "Station                    2\n",
              "Stop                       2\n",
              "Traffic_Calming            2\n",
              "Traffic_Signal             2\n",
              "Civil_Twilight             2\n",
              "Year                       6\n",
              "Month                     12\n",
              "Weekday                    7\n",
              "Day                       31\n",
              "Hour                      24\n",
              "Minute                    60\n",
              "dtype: int64"
            ]
          },
          "metadata": {},
          "execution_count": 53
        }
      ]
    },
    {
      "cell_type": "markdown",
      "source": [
        "Errors"
      ],
      "metadata": {
        "id": "jsQzlQ2-2eUq"
      }
    },
    {
      "cell_type": "code",
      "source": [
        "X[\"Side\"].value_counts()"
      ],
      "metadata": {
        "colab": {
          "base_uri": "https://localhost:8080/"
        },
        "id": "-KUBPgJ_2W0a",
        "outputId": "3d8de351-050e-4887-eb05-a435ae464b2e"
      },
      "execution_count": 54,
      "outputs": [
        {
          "output_type": "execute_result",
          "data": {
            "text/plain": [
              "R    2204442\n",
              "L     441922\n",
              "N          1\n",
              "Name: Side, dtype: int64"
            ]
          },
          "metadata": {},
          "execution_count": 54
        }
      ]
    },
    {
      "cell_type": "code",
      "source": [
        "X = X[X[\"Side\"] != \"N\"]\n",
        "X[\"Side\"].value_counts()"
      ],
      "metadata": {
        "colab": {
          "base_uri": "https://localhost:8080/"
        },
        "id": "l5PBKLAw3eRf",
        "outputId": "8c3b89c8-e92e-45bb-ce27-24cb19f9e533"
      },
      "execution_count": 55,
      "outputs": [
        {
          "output_type": "execute_result",
          "data": {
            "text/plain": [
              "R    2204442\n",
              "L     441922\n",
              "Name: Side, dtype: int64"
            ]
          },
          "metadata": {},
          "execution_count": 55
        }
      ]
    },
    {
      "cell_type": "code",
      "source": [
        "# pmean = X['Pressure(in)'].mean()\n",
        "# tmean = X['Visibility(mi)'].mean()\n",
        "# X['Pressure(in)']=X['Pressure(in)'].fillna(pmean)\n",
        "# X['Visibility(mi)'] = X['Visibility(mi)'].fillna(tmean)"
      ],
      "metadata": {
        "id": "_4TnCZpC4no4"
      },
      "execution_count": 56,
      "outputs": []
    },
    {
      "cell_type": "code",
      "source": [
        "X[\"Weather_Condition\"].unique()"
      ],
      "metadata": {
        "colab": {
          "base_uri": "https://localhost:8080/"
        },
        "id": "6RedIgtp6AMZ",
        "outputId": "f6a18d70-f8b8-47ac-ead1-dc11fa0928c8"
      },
      "execution_count": 57,
      "outputs": [
        {
          "output_type": "execute_result",
          "data": {
            "text/plain": [
              "array(['Light Rain', 'Overcast', 'Mostly Cloudy', 'Snow', 'Light Snow',\n",
              "       'Cloudy', nan, 'Scattered Clouds', 'Clear', 'Partly Cloudy',\n",
              "       'Light Freezing Drizzle', 'Light Drizzle', 'Haze', 'Rain',\n",
              "       'Heavy Rain', 'Fair', 'Drizzle', 'Fog', 'Thunderstorms and Rain',\n",
              "       'Patches of Fog', 'Light Thunderstorms and Rain', 'Mist',\n",
              "       'Rain Showers', 'Light Rain Showers', 'Heavy Drizzle', 'Smoke',\n",
              "       'Light Freezing Fog', 'Light Freezing Rain', 'Blowing Snow',\n",
              "       'Heavy Thunderstorms and Rain', 'Heavy Snow', 'Snow Grains',\n",
              "       'Squalls', 'Light Fog', 'Shallow Fog', 'Thunderstorm',\n",
              "       'Light Ice Pellets', 'Thunder', 'Thunder in the Vicinity',\n",
              "       'Fair / Windy', 'Light Rain with Thunder',\n",
              "       'Heavy Thunderstorms and Snow', 'Light Snow Showers',\n",
              "       'Cloudy / Windy', 'Ice Pellets', 'N/A Precipitation',\n",
              "       'Light Thunderstorms and Snow', 'T-Storm', 'Rain / Windy',\n",
              "       'Wintry Mix', 'Partly Cloudy / Windy', 'Heavy T-Storm', 'Sand',\n",
              "       'Light Rain / Windy', 'Widespread Dust', 'Mostly Cloudy / Windy',\n",
              "       'Blowing Dust / Windy', 'Blowing Dust', 'Volcanic Ash',\n",
              "       'Freezing Rain / Windy', 'Small Hail', 'Wintry Mix / Windy',\n",
              "       'Light Snow / Windy', 'Heavy Ice Pellets', 'Heavy Snow / Windy',\n",
              "       'Heavy Rain / Windy', 'Heavy T-Storm / Windy', 'Fog / Windy',\n",
              "       'Dust Whirls', 'Showers in the Vicinity', 'Funnel Cloud',\n",
              "       'Thunder / Windy', 'Snow / Windy', 'Haze / Windy',\n",
              "       'Light Snow and Sleet', 'T-Storm / Windy',\n",
              "       'Sand / Dust Whirlwinds', 'Light Snow with Thunder', 'Rain Shower',\n",
              "       'Blowing Snow / Windy', 'Light Rain Shower', 'Snow and Sleet',\n",
              "       'Drizzle and Fog', 'Light Sleet', 'Drizzle / Windy',\n",
              "       'Light Snow Shower', 'Snow and Thunder / Windy',\n",
              "       'Light Sleet / Windy', 'Smoke / Windy', 'Widespread Dust / Windy',\n",
              "       'Light Drizzle / Windy', 'Tornado', 'Squalls / Windy', 'Hail',\n",
              "       'Blowing Snow Nearby', 'Partial Fog', 'Sand / Windy',\n",
              "       'Thunder / Wintry Mix', 'Light Freezing Rain / Windy', 'Duststorm',\n",
              "       'Light Snow and Sleet / Windy', 'Heavy Rain Shower / Windy',\n",
              "       'Sand / Dust Whirlwinds / Windy', 'Light Rain Shower / Windy',\n",
              "       'Thunder and Hail', 'Freezing Rain', 'Heavy Sleet', 'Sleet',\n",
              "       'Freezing Drizzle', 'Snow and Sleet / Windy',\n",
              "       'Heavy Freezing Drizzle', 'Heavy Freezing Rain', 'Blowing Sand',\n",
              "       'Thunder / Wintry Mix / Windy', 'Mist / Windy', 'Sleet / Windy',\n",
              "       'Patches of Fog / Windy', 'Sand / Dust Whirls Nearby',\n",
              "       'Heavy Rain Shower', 'Drifting Snow', 'Heavy Blowing Snow',\n",
              "       'Low Drifting Snow', 'Light Blowing Snow', 'Heavy Rain Showers',\n",
              "       'Light Haze', 'Heavy Thunderstorms with Small Hail',\n",
              "       'Heavy Snow with Thunder', 'Thunder and Hail / Windy'],\n",
              "      dtype=object)"
            ]
          },
          "metadata": {},
          "execution_count": 57
        }
      ]
    },
    {
      "cell_type": "code",
      "source": [
        "X.loc[X[\"Weather_Condition\"].str.contains(\"Thunder|T-Storm\", na=False), \"Weather_Condition\"] = \"Thunderstorm\"\n",
        "X.loc[X[\"Weather_Condition\"].str.contains(\"Snow|Sleet|Wintry\", na=False), \"Weather_Condition\"] = \"Snow\"\n",
        "X.loc[X[\"Weather_Condition\"].str.contains(\"Rain|Drizzle|Shower\", na=False), \"Weather_Condition\"] = \"Rain\"\n",
        "X.loc[X[\"Weather_Condition\"].str.contains(\"Wind|Squalls\", na=False), \"Weather_Condition\"] = \"Windy\"\n",
        "X.loc[X[\"Weather_Condition\"].str.contains(\"Hail|Pellets\", na=False), \"Weather_Condition\"] = \"Hail\"\n",
        "X.loc[X[\"Weather_Condition\"].str.contains(\"Fair\", na=False), \"Weather_Condition\"] = \"Clear\"\n",
        "X.loc[X[\"Weather_Condition\"].str.contains(\"Cloud|Overcast\", na=False), \"Weather_Condition\"] = \"Cloudy\"\n",
        "X.loc[X[\"Weather_Condition\"].str.contains(\"Mist|Haze|Fog\", na=False), \"Weather_Condition\"] = \"Fog\"\n",
        "X.loc[X[\"Weather_Condition\"].str.contains(\"Sand|Dust\", na=False), \"Weather_Condition\"] = \"Sand\"\n",
        "X.loc[X[\"Weather_Condition\"].str.contains(\"Smoke|Volcanic Ash\", na=False), \"Weather_Condition\"] = \"Smoke\"\n",
        "X.loc[X[\"Weather_Condition\"].str.contains(\"N/A Precipitation\", na=False), \"Weather_Condition\"] = np.nan"
      ],
      "metadata": {
        "id": "w2HIn6m96jGu"
      },
      "execution_count": 58,
      "outputs": []
    },
    {
      "cell_type": "markdown",
      "source": [
        "np.nan is used to replace with null."
      ],
      "metadata": {
        "id": "WRWLbG4z7ON4"
      }
    },
    {
      "cell_type": "code",
      "source": [
        "X[\"Weather_Condition\"].unique()"
      ],
      "metadata": {
        "colab": {
          "base_uri": "https://localhost:8080/"
        },
        "id": "N2WVf3NU7WCF",
        "outputId": "206e007c-d2bf-492e-bcb2-945df701cc0c"
      },
      "execution_count": 59,
      "outputs": [
        {
          "output_type": "execute_result",
          "data": {
            "text/plain": [
              "array(['Rain', 'Cloudy', 'Snow', nan, 'Clear', 'Fog', 'Thunderstorm',\n",
              "       'Smoke', 'Windy', 'Hail', 'Sand', 'Tornado'], dtype=object)"
            ]
          },
          "metadata": {},
          "execution_count": 59
        }
      ]
    },
    {
      "cell_type": "code",
      "source": [
        "X[\"Wind_Direction\"].unique()"
      ],
      "metadata": {
        "colab": {
          "base_uri": "https://localhost:8080/"
        },
        "id": "cEHcSC7B71lE",
        "outputId": "47a602c0-ad7b-4dbe-f1e2-266466f7d6a6"
      },
      "execution_count": 60,
      "outputs": [
        {
          "output_type": "execute_result",
          "data": {
            "text/plain": [
              "array(['SW', 'Calm', 'WSW', 'WNW', 'West', 'NNW', 'South', 'W', 'NW',\n",
              "       'North', 'SSE', 'SSW', 'ESE', 'SE', nan, 'East', 'Variable', 'NNE',\n",
              "       'NE', 'ENE', 'CALM', 'S', 'VAR', 'N', 'E'], dtype=object)"
            ]
          },
          "metadata": {},
          "execution_count": 60
        }
      ]
    },
    {
      "cell_type": "code",
      "source": [
        "X.loc[X[\"Wind_Direction\"] == \"CALM\", \"Wind_Direction\"] = \"Calm\"\n",
        "X.loc[X[\"Wind_Direction\"] == \"VAR\", \"Wind_Direction\"] = \"Variable\"\n",
        "X.loc[X[\"Wind_Direction\"] == \"East\", \"Wind_Direction\"] = \"E\"\n",
        "X.loc[X[\"Wind_Direction\"] == \"North\", \"Wind_Direction\"] = \"N\"\n",
        "X.loc[X[\"Wind_Direction\"] == \"South\", \"Wind_Direction\"] = \"S\"\n",
        "X.loc[X[\"Wind_Direction\"] == \"West\", \"Wind_Direction\"] = \"W\"\n",
        "\n",
        "X[\"Wind_Direction\"] = X[\"Wind_Direction\"].map(lambda x : x if len(x) != 3 else x[1:], na_action=\"ignore\")\n",
        "\n",
        "X[\"Wind_Direction\"].unique()"
      ],
      "metadata": {
        "colab": {
          "base_uri": "https://localhost:8080/"
        },
        "id": "SwJebbcd75QC",
        "outputId": "67a6b5c8-f51a-45bd-9002-b5d99a025bd4"
      },
      "execution_count": 61,
      "outputs": [
        {
          "output_type": "execute_result",
          "data": {
            "text/plain": [
              "array(['SW', 'Calm', 'NW', 'W', 'S', 'N', 'SE', nan, 'E', 'Variable',\n",
              "       'NE'], dtype=object)"
            ]
          },
          "metadata": {},
          "execution_count": 61
        }
      ]
    },
    {
      "cell_type": "code",
      "source": [
        "X.isna().sum()"
      ],
      "metadata": {
        "colab": {
          "base_uri": "https://localhost:8080/"
        },
        "id": "GV1Cof_B8o9N",
        "outputId": "82f4427e-5f49-4c8e-b91f-f15b11936c49"
      },
      "execution_count": 62,
      "outputs": [
        {
          "output_type": "execute_result",
          "data": {
            "text/plain": [
              "Severity                  0\n",
              "Start_Lat                 0\n",
              "Start_Lng                 0\n",
              "Distance(mi)              0\n",
              "Side                      0\n",
              "City                    134\n",
              "Temperature(F)        64939\n",
              "Humidity(%)           68508\n",
              "Pressure(in)          55550\n",
              "Visibility(mi)        66231\n",
              "Wind_Direction        68769\n",
              "Wind_Speed(mph)      152388\n",
              "Precipitation(in)    538538\n",
              "Weather_Condition     67356\n",
              "Amenity                   0\n",
              "Bump                      0\n",
              "Crossing                  0\n",
              "Give_Way                  0\n",
              "Junction                  0\n",
              "No_Exit                   0\n",
              "Railway                   0\n",
              "Roundabout                0\n",
              "Station                   0\n",
              "Stop                      0\n",
              "Traffic_Calming           0\n",
              "Traffic_Signal            0\n",
              "Civil_Twilight         2655\n",
              "Year                      0\n",
              "Month                     0\n",
              "Weekday                   0\n",
              "Day                       0\n",
              "Hour                      0\n",
              "Minute                    0\n",
              "dtype: int64"
            ]
          },
          "metadata": {},
          "execution_count": 62
        }
      ]
    },
    {
      "cell_type": "code",
      "source": [
        "missing_percent = X.isna().sum().sort_values(ascending = False)/len(X)\n",
        "missing_percent"
      ],
      "metadata": {
        "colab": {
          "base_uri": "https://localhost:8080/"
        },
        "id": "YjeVNAIc-tnM",
        "outputId": "6ccbb7c7-0c14-4310-e811-a7d13195e587"
      },
      "execution_count": 63,
      "outputs": [
        {
          "output_type": "execute_result",
          "data": {
            "text/plain": [
              "Precipitation(in)    0.203501\n",
              "Wind_Speed(mph)      0.057584\n",
              "Wind_Direction       0.025986\n",
              "Humidity(%)          0.025888\n",
              "Weather_Condition    0.025452\n",
              "Visibility(mi)       0.025027\n",
              "Temperature(F)       0.024539\n",
              "Pressure(in)         0.020991\n",
              "Civil_Twilight       0.001003\n",
              "City                 0.000051\n",
              "Year                 0.000000\n",
              "Stop                 0.000000\n",
              "Traffic_Calming      0.000000\n",
              "Traffic_Signal       0.000000\n",
              "Severity             0.000000\n",
              "Month                0.000000\n",
              "Roundabout           0.000000\n",
              "Weekday              0.000000\n",
              "Day                  0.000000\n",
              "Hour                 0.000000\n",
              "Station              0.000000\n",
              "Crossing             0.000000\n",
              "Railway              0.000000\n",
              "No_Exit              0.000000\n",
              "Junction             0.000000\n",
              "Give_Way             0.000000\n",
              "Start_Lat            0.000000\n",
              "Bump                 0.000000\n",
              "Amenity              0.000000\n",
              "Side                 0.000000\n",
              "Distance(mi)         0.000000\n",
              "Start_Lng            0.000000\n",
              "Minute               0.000000\n",
              "dtype: float64"
            ]
          },
          "metadata": {},
          "execution_count": 63
        }
      ]
    },
    {
      "cell_type": "code",
      "source": [
        "missing_percent[missing_percent != 0].plot(kind = 'barh')"
      ],
      "metadata": {
        "colab": {
          "base_uri": "https://localhost:8080/",
          "height": 282
        },
        "id": "9Z-AyEBw81At",
        "outputId": "f33ee661-445a-4fb5-d9b9-b75a3ee0e03e"
      },
      "execution_count": 64,
      "outputs": [
        {
          "output_type": "execute_result",
          "data": {
            "text/plain": [
              "<matplotlib.axes._subplots.AxesSubplot at 0x7f6c4b410f90>"
            ]
          },
          "metadata": {},
          "execution_count": 64
        },
        {
          "output_type": "display_data",
          "data": {
            "text/plain": [
              "<Figure size 432x288 with 1 Axes>"
            ],
            "image/png": "[encoded data removed]"
          },
          "metadata": {
            "needs_background": "light"
          }
        }
      ]
    },
    {
      "cell_type": "markdown",
      "source": [
        "we are going to fill the missing features with the mean for numerical data"
      ],
      "metadata": {
        "id": "c43Dej1fBlSG"
      }
    },
    {
      "cell_type": "code",
      "source": [
        "features_to_fill = [\"Temperature(F)\", \"Humidity(%)\", \"Pressure(in)\", \"Visibility(mi)\", \"Wind_Speed(mph)\", \"Precipitation(in)\"]\n",
        "X[features_to_fill] = X[features_to_fill].fillna(X[features_to_fill].mean())\n",
        "X.isna().sum()"
      ],
      "metadata": {
        "colab": {
          "base_uri": "https://localhost:8080/"
        },
        "id": "a-bMggKm_6Xs",
        "outputId": "ca87ec45-ecb9-464b-80cf-f0118fdef0c2"
      },
      "execution_count": 65,
      "outputs": [
        {
          "output_type": "execute_result",
          "data": {
            "text/plain": [
              "Severity                 0\n",
              "Start_Lat                0\n",
              "Start_Lng                0\n",
              "Distance(mi)             0\n",
              "Side                     0\n",
              "City                   134\n",
              "Temperature(F)           0\n",
              "Humidity(%)              0\n",
              "Pressure(in)             0\n",
              "Visibility(mi)           0\n",
              "Wind_Direction       68769\n",
              "Wind_Speed(mph)          0\n",
              "Precipitation(in)        0\n",
              "Weather_Condition    67356\n",
              "Amenity                  0\n",
              "Bump                     0\n",
              "Crossing                 0\n",
              "Give_Way                 0\n",
              "Junction                 0\n",
              "No_Exit                  0\n",
              "Railway                  0\n",
              "Roundabout               0\n",
              "Station                  0\n",
              "Stop                     0\n",
              "Traffic_Calming          0\n",
              "Traffic_Signal           0\n",
              "Civil_Twilight        2655\n",
              "Year                     0\n",
              "Month                    0\n",
              "Weekday                  0\n",
              "Day                      0\n",
              "Hour                     0\n",
              "Minute                   0\n",
              "dtype: int64"
            ]
          },
          "metadata": {},
          "execution_count": 65
        }
      ]
    },
    {
      "cell_type": "markdown",
      "source": [
        "For categorical features like City, Wind_Direction, Weather_Condition and Civil_Twilight, we are going to delete the records with missing informations."
      ],
      "metadata": {
        "id": "MFr-NQLLBuaH"
      }
    },
    {
      "cell_type": "code",
      "source": [
        "X.dropna(inplace=True)"
      ],
      "metadata": {
        "id": "oikOJrNQBwz0"
      },
      "execution_count": 66,
      "outputs": []
    },
    {
      "cell_type": "code",
      "source": [
        "X.isna().sum()"
      ],
      "metadata": {
        "colab": {
          "base_uri": "https://localhost:8080/"
        },
        "id": "TSm-QUPACF5P",
        "outputId": "8dfd6865-a8f5-4538-9127-ed4709084227"
      },
      "execution_count": 67,
      "outputs": [
        {
          "output_type": "execute_result",
          "data": {
            "text/plain": [
              "Severity             0\n",
              "Start_Lat            0\n",
              "Start_Lng            0\n",
              "Distance(mi)         0\n",
              "Side                 0\n",
              "City                 0\n",
              "Temperature(F)       0\n",
              "Humidity(%)          0\n",
              "Pressure(in)         0\n",
              "Visibility(mi)       0\n",
              "Wind_Direction       0\n",
              "Wind_Speed(mph)      0\n",
              "Precipitation(in)    0\n",
              "Weather_Condition    0\n",
              "Amenity              0\n",
              "Bump                 0\n",
              "Crossing             0\n",
              "Give_Way             0\n",
              "Junction             0\n",
              "No_Exit              0\n",
              "Railway              0\n",
              "Roundabout           0\n",
              "Station              0\n",
              "Stop                 0\n",
              "Traffic_Calming      0\n",
              "Traffic_Signal       0\n",
              "Civil_Twilight       0\n",
              "Year                 0\n",
              "Month                0\n",
              "Weekday              0\n",
              "Day                  0\n",
              "Hour                 0\n",
              "Minute               0\n",
              "dtype: int64"
            ]
          },
          "metadata": {},
          "execution_count": 67
        }
      ]
    },
    {
      "cell_type": "code",
      "source": [
        "severity_counts = X[\"Severity\"].value_counts()\n",
        "severity_counts"
      ],
      "metadata": {
        "colab": {
          "base_uri": "https://localhost:8080/"
        },
        "id": "b4lC4R2xCdKr",
        "outputId": "6ad3063a-27ae-4cf2-c0e3-3c025c02fc67"
      },
      "execution_count": 68,
      "outputs": [
        {
          "output_type": "execute_result",
          "data": {
            "text/plain": [
              "2    2263455\n",
              "3     148616\n",
              "4     124168\n",
              "1      24591\n",
              "Name: Severity, dtype: int64"
            ]
          },
          "metadata": {},
          "execution_count": 68
        }
      ]
    },
    {
      "cell_type": "code",
      "source": [
        "plt.figure(figsize=(10, 8))\n",
        "plt.title(\"Histogram for the severity\")\n",
        "sns.barplot(severity_counts.index, severity_counts.values)\n",
        "plt.xlabel(\"Severity\")\n",
        "plt.ylabel(\"Value\")\n",
        "plt.show()"
      ],
      "metadata": {
        "colab": {
          "base_uri": "https://localhost:8080/",
          "height": 568
        },
        "id": "rSSkpA36Cka4",
        "outputId": "e76d3e1b-616e-4e97-b9c2-cf2235334d15"
      },
      "execution_count": 69,
      "outputs": [
        {
          "output_type": "stream",
          "name": "stderr",
          "text": [
            "/usr/local/lib/python3.7/dist-packages/seaborn/_decorators.py:43: FutureWarning: Pass the following variables as keyword args: x, y. From version 0.12, the only valid positional argument will be `data`, and passing other arguments without an explicit keyword will result in an error or misinterpretation.\n",
            "  FutureWarning\n"
          ]
        },
        {
          "output_type": "display_data",
          "data": {
            "text/plain": [
              "<Figure size 720x576 with 1 Axes>"
            ],
            "image/png": "[encoded data removed]"
          },
          "metadata": {
            "needs_background": "light"
          }
        }
      ]
    },
    {
      "cell_type": "markdown",
      "source": [
        "The number of accidents with the severity 1 is very small and the number of accidents with severity 2 is much higher. \n",
        "\n",
        "So, in order to balance the data we are going to undersample all the categories to the number of records of the minority category. We are going to undersample all categories equal to severity 1."
      ],
      "metadata": {
        "id": "L-QG0051C204"
      }
    },
    {
      "cell_type": "code",
      "source": [
        "size = len(X[X[\"Severity\"]==1].index)\n",
        "df = pd.DataFrame()\n",
        "for i in range(1,5):\n",
        "    S = X[X[\"Severity\"]==i]\n",
        "    df = df.append(S.sample(size, random_state=42))\n",
        "X = df"
      ],
      "metadata": {
        "id": "Gd9JQsTuDU-q"
      },
      "execution_count": 70,
      "outputs": []
    },
    {
      "cell_type": "code",
      "source": [
        "severity_counts = X[\"Severity\"].value_counts()\n",
        "severity_counts"
      ],
      "metadata": {
        "colab": {
          "base_uri": "https://localhost:8080/"
        },
        "id": "0gsw5KKHEFpd",
        "outputId": "2bb6c621-f085-4d8e-c304-5e78e541c6d0"
      },
      "execution_count": 71,
      "outputs": [
        {
          "output_type": "execute_result",
          "data": {
            "text/plain": [
              "1    24591\n",
              "2    24591\n",
              "3    24591\n",
              "4    24591\n",
              "Name: Severity, dtype: int64"
            ]
          },
          "metadata": {},
          "execution_count": 71
        }
      ]
    },
    {
      "cell_type": "code",
      "source": [
        "plt.figure(figsize=(10, 8))\n",
        "plt.title(\"Histogram for the severity\")\n",
        "sns.barplot(severity_counts.index, severity_counts.values)\n",
        "plt.xlabel(\"Severity\")\n",
        "plt.ylabel(\"Value\")\n",
        "plt.show()"
      ],
      "metadata": {
        "colab": {
          "base_uri": "https://localhost:8080/",
          "height": 568
        },
        "id": "xkOCwDBkEh77",
        "outputId": "762dafc0-db66-402e-dfb2-acbaa54f2471"
      },
      "execution_count": 72,
      "outputs": [
        {
          "output_type": "stream",
          "name": "stderr",
          "text": [
            "/usr/local/lib/python3.7/dist-packages/seaborn/_decorators.py:43: FutureWarning: Pass the following variables as keyword args: x, y. From version 0.12, the only valid positional argument will be `data`, and passing other arguments without an explicit keyword will result in an error or misinterpretation.\n",
            "  FutureWarning\n"
          ]
        },
        {
          "output_type": "display_data",
          "data": {
            "text/plain": [
              "<Figure size 720x576 with 1 Axes>"
            ],
            "image/png": "[encoded data removed]"
          },
          "metadata": {
            "needs_background": "light"
          }
        }
      ]
    },
    {
      "cell_type": "code",
      "source": [
        "X.head(10)"
      ],
      "metadata": {
        "colab": {
          "base_uri": "https://localhost:8080/",
          "height": 474
        },
        "id": "SaqbwGxtFffJ",
        "outputId": "e207ff7c-16fa-48ac-caef-f00368a4b56c"
      },
      "execution_count": 73,
      "outputs": [
        {
          "output_type": "execute_result",
          "data": {
            "text/plain": [
              "         Severity  Start_Lat  Start_Lng  Distance(mi) Side             City  \\\n",
              "2077389         1   26.67856  -80.14511         0.000    R  West Palm Beach   \n",
              "2078194         1   46.10669 -123.20672         0.000    L       Clatskanie   \n",
              "2101751         1   35.21946  -80.82509         0.000    R        Charlotte   \n",
              "2281641         1   32.22886 -110.91397         0.000    L           Tucson   \n",
              "2080840         1   45.40813 -122.79508         0.000    R         Portland   \n",
              "2176183         1   42.75155  -73.92863         4.973    R      Schenectady   \n",
              "2098187         1   33.46569 -111.99560         0.000    L          Phoenix   \n",
              "2136689         1   37.38115  -77.46000         0.000    L          Chester   \n",
              "2159608         1   45.50483 -122.41470         0.000    R          Gresham   \n",
              "2103623         1   29.10141  -81.02663         6.846    R      Port Orange   \n",
              "\n",
              "         Temperature(F)  Humidity(%)  Pressure(in)  Visibility(mi)  ...  \\\n",
              "2077389            81.0         88.0         30.05             3.0  ...   \n",
              "2078194            68.0         50.0         29.99            10.0  ...   \n",
              "2101751            56.0         80.0         29.03            10.0  ...   \n",
              "2281641            92.0          8.0         27.15             8.0  ...   \n",
              "2080840            86.0         35.0         29.62            10.0  ...   \n",
              "2176183            82.0         29.0         29.97            10.0  ...   \n",
              "2098187            98.0         11.0         28.63            10.0  ...   \n",
              "2136689            73.0         93.0         29.68            10.0  ...   \n",
              "2159608            64.0         50.0         30.19            10.0  ...   \n",
              "2103623            61.0         60.0         30.01            10.0  ...   \n",
              "\n",
              "          Stop  Traffic_Calming  Traffic_Signal Civil_Twilight  Year  Month  \\\n",
              "2077389  False            False            True            Day  2020      5   \n",
              "2078194  False            False           False            Day  2020      5   \n",
              "2101751  False            False           False            Day  2020      5   \n",
              "2281641  False            False            True            Day  2020      4   \n",
              "2080840  False            False            True            Day  2020      5   \n",
              "2176183  False            False           False            Day  2020      6   \n",
              "2098187  False            False            True            Day  2020      5   \n",
              "2136689  False            False           False            Day  2020      6   \n",
              "2159608  False            False           False            Day  2020      6   \n",
              "2103623  False            False           False            Day  2020      5   \n",
              "\n",
              "         Weekday  Day  Hour  Minute  \n",
              "2077389        3   28     7      51  \n",
              "2078194        3   28     9      16  \n",
              "2101751        2    6    17      19  \n",
              "2281641        1   28    18      47  \n",
              "2080840        4   29    17      14  \n",
              "2176183        1   16    17      40  \n",
              "2098187        5    2    17       8  \n",
              "2136689        0   22    16      45  \n",
              "2159608        0    8    16       6  \n",
              "2103623        3    7     7      36  \n",
              "\n",
              "[10 rows x 33 columns]"
            ],
            "text/html": [
              "\n",
              "  <div id=\"df-89b320f8-4a7c-49af-9f5a-50055708e9ea\">\n",
              "    <div class=\"colab-df-container\">\n",
              "      <div>\n",
              "<style scoped>\n",
              "    .dataframe tbody tr th:only-of-type {\n",
              "        vertical-align: middle;\n",
              "    }\n",
              "\n",
              "    .dataframe tbody tr th {\n",
              "        vertical-align: top;\n",
              "    }\n",
              "\n",
              "    .dataframe thead th {\n",
              "        text-align: right;\n",
              "    }\n",
              "</style>\n",
              "<table border=\"1\" class=\"dataframe\">\n",
              "  <thead>\n",
              "    <tr style=\"text-align: right;\">\n",
              "      <th></th>\n",
              "      <th>Severity</th>\n",
              "      <th>Start_Lat</th>\n",
              "      <th>Start_Lng</th>\n",
              "      <th>Distance(mi)</th>\n",
              "      <th>Side</th>\n",
              "      <th>City</th>\n",
              "      <th>Temperature(F)</th>\n",
              "      <th>Humidity(%)</th>\n",
              "      <th>Pressure(in)</th>\n",
              "      <th>Visibility(mi)</th>\n",
              "      <th>...</th>\n",
              "      <th>Stop</th>\n",
              "      <th>Traffic_Calming</th>\n",
              "      <th>Traffic_Signal</th>\n",
              "      <th>Civil_Twilight</th>\n",
              "      <th>Year</th>\n",
              "      <th>Month</th>\n",
              "      <th>Weekday</th>\n",
              "      <th>Day</th>\n",
              "      <th>Hour</th>\n",
              "      <th>Minute</th>\n",
              "    </tr>\n",
              "  </thead>\n",
              "  <tbody>\n",
              "    <tr>\n",
              "      <th>2077389</th>\n",
              "      <td>1</td>\n",
              "      <td>26.67856</td>\n",
              "      <td>-80.14511</td>\n",
              "      <td>0.000</td>\n",
              "      <td>R</td>\n",
              "      <td>West Palm Beach</td>\n",
              "      <td>81.0</td>\n",
              "      <td>88.0</td>\n",
              "      <td>30.05</td>\n",
              "      <td>3.0</td>\n",
              "      <td>...</td>\n",
              "      <td>False</td>\n",
              "      <td>False</td>\n",
              "      <td>True</td>\n",
              "      <td>Day</td>\n",
              "      <td>2020</td>\n",
              "      <td>5</td>\n",
              "      <td>3</td>\n",
              "      <td>28</td>\n",
              "      <td>7</td>\n",
              "      <td>51</td>\n",
              "    </tr>\n",
              "    <tr>\n",
              "      <th>2078194</th>\n",
              "      <td>1</td>\n",
              "      <td>46.10669</td>\n",
              "      <td>-123.20672</td>\n",
              "      <td>0.000</td>\n",
              "      <td>L</td>\n",
              "      <td>Clatskanie</td>\n",
              "      <td>68.0</td>\n",
              "      <td>50.0</td>\n",
              "      <td>29.99</td>\n",
              "      <td>10.0</td>\n",
              "      <td>...</td>\n",
              "      <td>False</td>\n",
              "      <td>False</td>\n",
              "      <td>False</td>\n",
              "      <td>Day</td>\n",
              "      <td>2020</td>\n",
              "      <td>5</td>\n",
              "      <td>3</td>\n",
              "      <td>28</td>\n",
              "      <td>9</td>\n",
              "      <td>16</td>\n",
              "    </tr>\n",
              "    <tr>\n",
              "      <th>2101751</th>\n",
              "      <td>1</td>\n",
              "      <td>35.21946</td>\n",
              "      <td>-80.82509</td>\n",
              "      <td>0.000</td>\n",
              "      <td>R</td>\n",
              "      <td>Charlotte</td>\n",
              "      <td>56.0</td>\n",
              "      <td>80.0</td>\n",
              "      <td>29.03</td>\n",
              "      <td>10.0</td>\n",
              "      <td>...</td>\n",
              "      <td>False</td>\n",
              "      <td>False</td>\n",
              "      <td>False</td>\n",
              "      <td>Day</td>\n",
              "      <td>2020</td>\n",
              "      <td>5</td>\n",
              "      <td>2</td>\n",
              "      <td>6</td>\n",
              "      <td>17</td>\n",
              "      <td>19</td>\n",
              "    </tr>\n",
              "    <tr>\n",
              "      <th>2281641</th>\n",
              "      <td>1</td>\n",
              "      <td>32.22886</td>\n",
              "      <td>-110.91397</td>\n",
              "      <td>0.000</td>\n",
              "      <td>L</td>\n",
              "      <td>Tucson</td>\n",
              "      <td>92.0</td>\n",
              "      <td>8.0</td>\n",
              "      <td>27.15</td>\n",
              "      <td>8.0</td>\n",
              "      <td>...</td>\n",
              "      <td>False</td>\n",
              "      <td>False</td>\n",
              "      <td>True</td>\n",
              "      <td>Day</td>\n",
              "      <td>2020</td>\n",
              "      <td>4</td>\n",
              "      <td>1</td>\n",
              "      <td>28</td>\n",
              "      <td>18</td>\n",
              "      <td>47</td>\n",
              "    </tr>\n",
              "    <tr>\n",
              "      <th>2080840</th>\n",
              "      <td>1</td>\n",
              "      <td>45.40813</td>\n",
              "      <td>-122.79508</td>\n",
              "      <td>0.000</td>\n",
              "      <td>R</td>\n",
              "      <td>Portland</td>\n",
              "      <td>86.0</td>\n",
              "      <td>35.0</td>\n",
              "      <td>29.62</td>\n",
              "      <td>10.0</td>\n",
              "      <td>...</td>\n",
              "      <td>False</td>\n",
              "      <td>False</td>\n",
              "      <td>True</td>\n",
              "      <td>Day</td>\n",
              "      <td>2020</td>\n",
              "      <td>5</td>\n",
              "      <td>4</td>\n",
              "      <td>29</td>\n",
              "      <td>17</td>\n",
              "      <td>14</td>\n",
              "    </tr>\n",
              "    <tr>\n",
              "      <th>2176183</th>\n",
              "      <td>1</td>\n",
              "      <td>42.75155</td>\n",
              "      <td>-73.92863</td>\n",
              "      <td>4.973</td>\n",
              "      <td>R</td>\n",
              "      <td>Schenectady</td>\n",
              "      <td>82.0</td>\n",
              "      <td>29.0</td>\n",
              "      <td>29.97</td>\n",
              "      <td>10.0</td>\n",
              "      <td>...</td>\n",
              "      <td>False</td>\n",
              "      <td>False</td>\n",
              "      <td>False</td>\n",
              "      <td>Day</td>\n",
              "      <td>2020</td>\n",
              "      <td>6</td>\n",
              "      <td>1</td>\n",
              "      <td>16</td>\n",
              "      <td>17</td>\n",
              "      <td>40</td>\n",
              "    </tr>\n",
              "    <tr>\n",
              "      <th>2098187</th>\n",
              "      <td>1</td>\n",
              "      <td>33.46569</td>\n",
              "      <td>-111.99560</td>\n",
              "      <td>0.000</td>\n",
              "      <td>L</td>\n",
              "      <td>Phoenix</td>\n",
              "      <td>98.0</td>\n",
              "      <td>11.0</td>\n",
              "      <td>28.63</td>\n",
              "      <td>10.0</td>\n",
              "      <td>...</td>\n",
              "      <td>False</td>\n",
              "      <td>False</td>\n",
              "      <td>True</td>\n",
              "      <td>Day</td>\n",
              "      <td>2020</td>\n",
              "      <td>5</td>\n",
              "      <td>5</td>\n",
              "      <td>2</td>\n",
              "      <td>17</td>\n",
              "      <td>8</td>\n",
              "    </tr>\n",
              "    <tr>\n",
              "      <th>2136689</th>\n",
              "      <td>1</td>\n",
              "      <td>37.38115</td>\n",
              "      <td>-77.46000</td>\n",
              "      <td>0.000</td>\n",
              "      <td>L</td>\n",
              "      <td>Chester</td>\n",
              "      <td>73.0</td>\n",
              "      <td>93.0</td>\n",
              "      <td>29.68</td>\n",
              "      <td>10.0</td>\n",
              "      <td>...</td>\n",
              "      <td>False</td>\n",
              "      <td>False</td>\n",
              "      <td>False</td>\n",
              "      <td>Day</td>\n",
              "      <td>2020</td>\n",
              "      <td>6</td>\n",
              "      <td>0</td>\n",
              "      <td>22</td>\n",
              "      <td>16</td>\n",
              "      <td>45</td>\n",
              "    </tr>\n",
              "    <tr>\n",
              "      <th>2159608</th>\n",
              "      <td>1</td>\n",
              "      <td>45.50483</td>\n",
              "      <td>-122.41470</td>\n",
              "      <td>0.000</td>\n",
              "      <td>R</td>\n",
              "      <td>Gresham</td>\n",
              "      <td>64.0</td>\n",
              "      <td>50.0</td>\n",
              "      <td>30.19</td>\n",
              "      <td>10.0</td>\n",
              "      <td>...</td>\n",
              "      <td>False</td>\n",
              "      <td>False</td>\n",
              "      <td>False</td>\n",
              "      <td>Day</td>\n",
              "      <td>2020</td>\n",
              "      <td>6</td>\n",
              "      <td>0</td>\n",
              "      <td>8</td>\n",
              "      <td>16</td>\n",
              "      <td>6</td>\n",
              "    </tr>\n",
              "    <tr>\n",
              "      <th>2103623</th>\n",
              "      <td>1</td>\n",
              "      <td>29.10141</td>\n",
              "      <td>-81.02663</td>\n",
              "      <td>6.846</td>\n",
              "      <td>R</td>\n",
              "      <td>Port Orange</td>\n",
              "      <td>61.0</td>\n",
              "      <td>60.0</td>\n",
              "      <td>30.01</td>\n",
              "      <td>10.0</td>\n",
              "      <td>...</td>\n",
              "      <td>False</td>\n",
              "      <td>False</td>\n",
              "      <td>False</td>\n",
              "      <td>Day</td>\n",
              "      <td>2020</td>\n",
              "      <td>5</td>\n",
              "      <td>3</td>\n",
              "      <td>7</td>\n",
              "      <td>7</td>\n",
              "      <td>36</td>\n",
              "    </tr>\n",
              "  </tbody>\n",
              "</table>\n",
              "<p>10 rows × 33 columns</p>\n",
              "</div>\n",
              "      <button class=\"colab-df-convert\" onclick=\"convertToInteractive('df-89b320f8-4a7c-49af-9f5a-50055708e9ea')\"\n",
              "              title=\"Convert this dataframe to an interactive table.\"\n",
              "              style=\"display:none;\">\n",
              "        \n",
              "  <svg xmlns=\"http://www.w3.org/2000/svg\" height=\"24px\"viewBox=\"0 0 24 24\"\n",
              "       width=\"24px\">\n",
              "    <path d=\"M0 0h24v24H0V0z\" fill=\"none\"/>\n",
              "    <path d=\"M18.56 5.44l.94 2.06.94-2.06 2.06-.94-2.06-.94-.94-2.06-.94 2.06-2.06.94zm-11 1L8.5 8.5l.94-2.06 2.06-.94-2.06-.94L8.5 2.5l-.94 2.06-2.06.94zm10 10l.94 2.06.94-2.06 2.06-.94-2.06-.94-.94-2.06-.94 2.06-2.06.94z\"/><path d=\"M17.41 7.96l-1.37-1.37c-.4-.4-.92-.59-1.43-.59-.52 0-1.04.2-1.43.59L10.3 9.45l-7.72 7.72c-.78.78-.78 2.05 0 2.83L4 21.41c.39.39.9.59 1.41.59.51 0 1.02-.2 1.41-.59l7.78-7.78 2.81-2.81c.8-.78.8-2.07 0-2.86zM5.41 20L4 18.59l7.72-7.72 1.47 1.35L5.41 20z\"/>\n",
              "  </svg>\n",
              "      </button>\n",
              "      \n",
              "  <style>\n",
              "    .colab-df-container {\n",
              "      display:flex;\n",
              "      flex-wrap:wrap;\n",
              "      gap: 12px;\n",
              "    }\n",
              "\n",
              "    .colab-df-convert {\n",
              "      background-color: #E8F0FE;\n",
              "      border: none;\n",
              "      border-radius: 50%;\n",
              "      cursor: pointer;\n",
              "      display: none;\n",
              "      fill: #1967D2;\n",
              "      height: 32px;\n",
              "      padding: 0 0 0 0;\n",
              "      width: 32px;\n",
              "    }\n",
              "\n",
              "    .colab-df-convert:hover {\n",
              "      background-color: #E2EBFA;\n",
              "      box-shadow: 0px 1px 2px rgba(60, 64, 67, 0.3), 0px 1px 3px 1px rgba(60, 64, 67, 0.15);\n",
              "      fill: #174EA6;\n",
              "    }\n",
              "\n",
              "    [theme=dark] .colab-df-convert {\n",
              "      background-color: #3B4455;\n",
              "      fill: #D2E3FC;\n",
              "    }\n",
              "\n",
              "    [theme=dark] .colab-df-convert:hover {\n",
              "      background-color: #434B5C;\n",
              "      box-shadow: 0px 1px 3px 1px rgba(0, 0, 0, 0.15);\n",
              "      filter: drop-shadow(0px 1px 2px rgba(0, 0, 0, 0.3));\n",
              "      fill: #FFFFFF;\n",
              "    }\n",
              "  </style>\n",
              "\n",
              "      <script>\n",
              "        const buttonEl =\n",
              "          document.querySelector('#df-89b320f8-4a7c-49af-9f5a-50055708e9ea button.colab-df-convert');\n",
              "        buttonEl.style.display =\n",
              "          google.colab.kernel.accessAllowed ? 'block' : 'none';\n",
              "\n",
              "        async function convertToInteractive(key) {\n",
              "          const element = document.querySelector('#df-89b320f8-4a7c-49af-9f5a-50055708e9ea');\n",
              "          const dataTable =\n",
              "            await google.colab.kernel.invokeFunction('convertToInteractive',\n",
              "                                                     [key], {});\n",
              "          if (!dataTable) return;\n",
              "\n",
              "          const docLinkHtml = 'Like what you see? Visit the ' +\n",
              "            '<a target=\"_blank\" href=https://colab.research.google.com/notebooks/data_table.ipynb>data table notebook</a>'\n",
              "            + ' to learn more about interactive tables.';\n",
              "          element.innerHTML = '';\n",
              "          dataTable['output_type'] = 'display_data';\n",
              "          await google.colab.output.renderOutput(dataTable, element);\n",
              "          const docLink = document.createElement('div');\n",
              "          docLink.innerHTML = docLinkHtml;\n",
              "          element.appendChild(docLink);\n",
              "        }\n",
              "      </script>\n",
              "    </div>\n",
              "  </div>\n",
              "  "
            ]
          },
          "metadata": {},
          "execution_count": 73
        }
      ]
    },
    {
      "cell_type": "code",
      "source": [
        "from sklearn.preprocessing import MinMaxScaler\n",
        "scaler = MinMaxScaler()\n",
        "features = ['Temperature(F)','Distance(mi)','Humidity(%)','Pressure(in)','Visibility(mi)','Wind_Speed(mph)','Precipitation(in)','Start_Lng','Start_Lat','Year', 'Month','Weekday','Day','Hour','Minute']\n",
        "X[features] = scaler.fit_transform(X[features])\n",
        "X.head()"
      ],
      "metadata": {
        "colab": {
          "base_uri": "https://localhost:8080/",
          "height": 334
        },
        "id": "SxTWK9F6FDQ_",
        "outputId": "8115b629-ab90-45b7-ae45-cce21d3af156"
      },
      "execution_count": 74,
      "outputs": [
        {
          "output_type": "execute_result",
          "data": {
            "text/plain": [
              "         Severity  Start_Lat  Start_Lng  Distance(mi) Side             City  \\\n",
              "2077389         1   0.086263   0.782952           0.0    R  West Palm Beach   \n",
              "2078194         1   0.881541   0.022785           0.0    L       Clatskanie   \n",
              "2101751         1   0.435880   0.770948           0.0    R        Charlotte   \n",
              "2281641         1   0.313461   0.239789           0.0    L           Tucson   \n",
              "2080840         1   0.852946   0.030051           0.0    R         Portland   \n",
              "\n",
              "         Temperature(F)  Humidity(%)  Pressure(in)  Visibility(mi)  ...  \\\n",
              "2077389        0.821256     0.877551      0.905097        0.025000  ...   \n",
              "2078194        0.758454     0.489796      0.899824        0.083333  ...   \n",
              "2101751        0.700483     0.795918      0.815466        0.083333  ...   \n",
              "2281641        0.874396     0.061224      0.650264        0.066667  ...   \n",
              "2080840        0.845411     0.336735      0.867311        0.083333  ...   \n",
              "\n",
              "          Stop  Traffic_Calming  Traffic_Signal Civil_Twilight  Year  \\\n",
              "2077389  False            False            True            Day   0.8   \n",
              "2078194  False            False           False            Day   0.8   \n",
              "2101751  False            False           False            Day   0.8   \n",
              "2281641  False            False            True            Day   0.8   \n",
              "2080840  False            False            True            Day   0.8   \n",
              "\n",
              "            Month   Weekday       Day      Hour    Minute  \n",
              "2077389  0.363636  0.500000  0.900000  0.304348  0.864407  \n",
              "2078194  0.363636  0.500000  0.900000  0.391304  0.271186  \n",
              "2101751  0.363636  0.333333  0.166667  0.739130  0.322034  \n",
              "2281641  0.272727  0.166667  0.900000  0.782609  0.796610  \n",
              "2080840  0.363636  0.666667  0.933333  0.739130  0.237288  \n",
              "\n",
              "[5 rows x 33 columns]"
            ],
            "text/html": [
              "\n",
              "  <div id=\"df-85563108-b295-45e8-8da1-eb8c0c607cba\">\n",
              "    <div class=\"colab-df-container\">\n",
              "      <div>\n",
              "<style scoped>\n",
              "    .dataframe tbody tr th:only-of-type {\n",
              "        vertical-align: middle;\n",
              "    }\n",
              "\n",
              "    .dataframe tbody tr th {\n",
              "        vertical-align: top;\n",
              "    }\n",
              "\n",
              "    .dataframe thead th {\n",
              "        text-align: right;\n",
              "    }\n",
              "</style>\n",
              "<table border=\"1\" class=\"dataframe\">\n",
              "  <thead>\n",
              "    <tr style=\"text-align: right;\">\n",
              "      <th></th>\n",
              "      <th>Severity</th>\n",
              "      <th>Start_Lat</th>\n",
              "      <th>Start_Lng</th>\n",
              "      <th>Distance(mi)</th>\n",
              "      <th>Side</th>\n",
              "      <th>City</th>\n",
              "      <th>Temperature(F)</th>\n",
              "      <th>Humidity(%)</th>\n",
              "      <th>Pressure(in)</th>\n",
              "      <th>Visibility(mi)</th>\n",
              "      <th>...</th>\n",
              "      <th>Stop</th>\n",
              "      <th>Traffic_Calming</th>\n",
              "      <th>Traffic_Signal</th>\n",
              "      <th>Civil_Twilight</th>\n",
              "      <th>Year</th>\n",
              "      <th>Month</th>\n",
              "      <th>Weekday</th>\n",
              "      <th>Day</th>\n",
              "      <th>Hour</th>\n",
              "      <th>Minute</th>\n",
              "    </tr>\n",
              "  </thead>\n",
              "  <tbody>\n",
              "    <tr>\n",
              "      <th>2077389</th>\n",
              "      <td>1</td>\n",
              "      <td>0.086263</td>\n",
              "      <td>0.782952</td>\n",
              "      <td>0.0</td>\n",
              "      <td>R</td>\n",
              "      <td>West Palm Beach</td>\n",
              "      <td>0.821256</td>\n",
              "      <td>0.877551</td>\n",
              "      <td>0.905097</td>\n",
              "      <td>0.025000</td>\n",
              "      <td>...</td>\n",
              "      <td>False</td>\n",
              "      <td>False</td>\n",
              "      <td>True</td>\n",
              "      <td>Day</td>\n",
              "      <td>0.8</td>\n",
              "      <td>0.363636</td>\n",
              "      <td>0.500000</td>\n",
              "      <td>0.900000</td>\n",
              "      <td>0.304348</td>\n",
              "      <td>0.864407</td>\n",
              "    </tr>\n",
              "    <tr>\n",
              "      <th>2078194</th>\n",
              "      <td>1</td>\n",
              "      <td>0.881541</td>\n",
              "      <td>0.022785</td>\n",
              "      <td>0.0</td>\n",
              "      <td>L</td>\n",
              "      <td>Clatskanie</td>\n",
              "      <td>0.758454</td>\n",
              "      <td>0.489796</td>\n",
              "      <td>0.899824</td>\n",
              "      <td>0.083333</td>\n",
              "      <td>...</td>\n",
              "      <td>False</td>\n",
              "      <td>False</td>\n",
              "      <td>False</td>\n",
              "      <td>Day</td>\n",
              "      <td>0.8</td>\n",
              "      <td>0.363636</td>\n",
              "      <td>0.500000</td>\n",
              "      <td>0.900000</td>\n",
              "      <td>0.391304</td>\n",
              "      <td>0.271186</td>\n",
              "    </tr>\n",
              "    <tr>\n",
              "      <th>2101751</th>\n",
              "      <td>1</td>\n",
              "      <td>0.435880</td>\n",
              "      <td>0.770948</td>\n",
              "      <td>0.0</td>\n",
              "      <td>R</td>\n",
              "      <td>Charlotte</td>\n",
              "      <td>0.700483</td>\n",
              "      <td>0.795918</td>\n",
              "      <td>0.815466</td>\n",
              "      <td>0.083333</td>\n",
              "      <td>...</td>\n",
              "      <td>False</td>\n",
              "      <td>False</td>\n",
              "      <td>False</td>\n",
              "      <td>Day</td>\n",
              "      <td>0.8</td>\n",
              "      <td>0.363636</td>\n",
              "      <td>0.333333</td>\n",
              "      <td>0.166667</td>\n",
              "      <td>0.739130</td>\n",
              "      <td>0.322034</td>\n",
              "    </tr>\n",
              "    <tr>\n",
              "      <th>2281641</th>\n",
              "      <td>1</td>\n",
              "      <td>0.313461</td>\n",
              "      <td>0.239789</td>\n",
              "      <td>0.0</td>\n",
              "      <td>L</td>\n",
              "      <td>Tucson</td>\n",
              "      <td>0.874396</td>\n",
              "      <td>0.061224</td>\n",
              "      <td>0.650264</td>\n",
              "      <td>0.066667</td>\n",
              "      <td>...</td>\n",
              "      <td>False</td>\n",
              "      <td>False</td>\n",
              "      <td>True</td>\n",
              "      <td>Day</td>\n",
              "      <td>0.8</td>\n",
              "      <td>0.272727</td>\n",
              "      <td>0.166667</td>\n",
              "      <td>0.900000</td>\n",
              "      <td>0.782609</td>\n",
              "      <td>0.796610</td>\n",
              "    </tr>\n",
              "    <tr>\n",
              "      <th>2080840</th>\n",
              "      <td>1</td>\n",
              "      <td>0.852946</td>\n",
              "      <td>0.030051</td>\n",
              "      <td>0.0</td>\n",
              "      <td>R</td>\n",
              "      <td>Portland</td>\n",
              "      <td>0.845411</td>\n",
              "      <td>0.336735</td>\n",
              "      <td>0.867311</td>\n",
              "      <td>0.083333</td>\n",
              "      <td>...</td>\n",
              "      <td>False</td>\n",
              "      <td>False</td>\n",
              "      <td>True</td>\n",
              "      <td>Day</td>\n",
              "      <td>0.8</td>\n",
              "      <td>0.363636</td>\n",
              "      <td>0.666667</td>\n",
              "      <td>0.933333</td>\n",
              "      <td>0.739130</td>\n",
              "      <td>0.237288</td>\n",
              "    </tr>\n",
              "  </tbody>\n",
              "</table>\n",
              "<p>5 rows × 33 columns</p>\n",
              "</div>\n",
              "      <button class=\"colab-df-convert\" onclick=\"convertToInteractive('df-85563108-b295-45e8-8da1-eb8c0c607cba')\"\n",
              "              title=\"Convert this dataframe to an interactive table.\"\n",
              "              style=\"display:none;\">\n",
              "        \n",
              "  <svg xmlns=\"http://www.w3.org/2000/svg\" height=\"24px\"viewBox=\"0 0 24 24\"\n",
              "       width=\"24px\">\n",
              "    <path d=\"M0 0h24v24H0V0z\" fill=\"none\"/>\n",
              "    <path d=\"M18.56 5.44l.94 2.06.94-2.06 2.06-.94-2.06-.94-.94-2.06-.94 2.06-2.06.94zm-11 1L8.5 8.5l.94-2.06 2.06-.94-2.06-.94L8.5 2.5l-.94 2.06-2.06.94zm10 10l.94 2.06.94-2.06 2.06-.94-2.06-.94-.94-2.06-.94 2.06-2.06.94z\"/><path d=\"M17.41 7.96l-1.37-1.37c-.4-.4-.92-.59-1.43-.59-.52 0-1.04.2-1.43.59L10.3 9.45l-7.72 7.72c-.78.78-.78 2.05 0 2.83L4 21.41c.39.39.9.59 1.41.59.51 0 1.02-.2 1.41-.59l7.78-7.78 2.81-2.81c.8-.78.8-2.07 0-2.86zM5.41 20L4 18.59l7.72-7.72 1.47 1.35L5.41 20z\"/>\n",
              "  </svg>\n",
              "      </button>\n",
              "      \n",
              "  <style>\n",
              "    .colab-df-container {\n",
              "      display:flex;\n",
              "      flex-wrap:wrap;\n",
              "      gap: 12px;\n",
              "    }\n",
              "\n",
              "    .colab-df-convert {\n",
              "      background-color: #E8F0FE;\n",
              "      border: none;\n",
              "      border-radius: 50%;\n",
              "      cursor: pointer;\n",
              "      display: none;\n",
              "      fill: #1967D2;\n",
              "      height: 32px;\n",
              "      padding: 0 0 0 0;\n",
              "      width: 32px;\n",
              "    }\n",
              "\n",
              "    .colab-df-convert:hover {\n",
              "      background-color: #E2EBFA;\n",
              "      box-shadow: 0px 1px 2px rgba(60, 64, 67, 0.3), 0px 1px 3px 1px rgba(60, 64, 67, 0.15);\n",
              "      fill: #174EA6;\n",
              "    }\n",
              "\n",
              "    [theme=dark] .colab-df-convert {\n",
              "      background-color: #3B4455;\n",
              "      fill: #D2E3FC;\n",
              "    }\n",
              "\n",
              "    [theme=dark] .colab-df-convert:hover {\n",
              "      background-color: #434B5C;\n",
              "      box-shadow: 0px 1px 3px 1px rgba(0, 0, 0, 0.15);\n",
              "      filter: drop-shadow(0px 1px 2px rgba(0, 0, 0, 0.3));\n",
              "      fill: #FFFFFF;\n",
              "    }\n",
              "  </style>\n",
              "\n",
              "      <script>\n",
              "        const buttonEl =\n",
              "          document.querySelector('#df-85563108-b295-45e8-8da1-eb8c0c607cba button.colab-df-convert');\n",
              "        buttonEl.style.display =\n",
              "          google.colab.kernel.accessAllowed ? 'block' : 'none';\n",
              "\n",
              "        async function convertToInteractive(key) {\n",
              "          const element = document.querySelector('#df-85563108-b295-45e8-8da1-eb8c0c607cba');\n",
              "          const dataTable =\n",
              "            await google.colab.kernel.invokeFunction('convertToInteractive',\n",
              "                                                     [key], {});\n",
              "          if (!dataTable) return;\n",
              "\n",
              "          const docLinkHtml = 'Like what you see? Visit the ' +\n",
              "            '<a target=\"_blank\" href=https://colab.research.google.com/notebooks/data_table.ipynb>data table notebook</a>'\n",
              "            + ' to learn more about interactive tables.';\n",
              "          element.innerHTML = '';\n",
              "          dataTable['output_type'] = 'display_data';\n",
              "          await google.colab.output.renderOutput(dataTable, element);\n",
              "          const docLink = document.createElement('div');\n",
              "          docLink.innerHTML = docLinkHtml;\n",
              "          element.appendChild(docLink);\n",
              "        }\n",
              "      </script>\n",
              "    </div>\n",
              "  </div>\n",
              "  "
            ]
          },
          "metadata": {},
          "execution_count": 74
        }
      ]
    },
    {
      "cell_type": "markdown",
      "source": [
        "encoding Categorial features"
      ],
      "metadata": {
        "id": "DCKv-Wr9G8fV"
      }
    },
    {
      "cell_type": "code",
      "source": [
        "X.info()"
      ],
      "metadata": {
        "colab": {
          "base_uri": "https://localhost:8080/"
        },
        "id": "a3-yWIgeHa-n",
        "outputId": "cd9bc87d-b2f2-4541-f80d-6a42a4cd6840"
      },
      "execution_count": 75,
      "outputs": [
        {
          "output_type": "stream",
          "name": "stdout",
          "text": [
            "<class 'pandas.core.frame.DataFrame'>\n",
            "Int64Index: 98364 entries, 2077389 to 2468121\n",
            "Data columns (total 33 columns):\n",
            " #   Column             Non-Null Count  Dtype  \n",
            "---  ------             --------------  -----  \n",
            " 0   Severity           98364 non-null  int64  \n",
            " 1   Start_Lat          98364 non-null  float64\n",
            " 2   Start_Lng          98364 non-null  float64\n",
            " 3   Distance(mi)       98364 non-null  float64\n",
            " 4   Side               98364 non-null  object \n",
            " 5   City               98364 non-null  object \n",
            " 6   Temperature(F)     98364 non-null  float64\n",
            " 7   Humidity(%)        98364 non-null  float64\n",
            " 8   Pressure(in)       98364 non-null  float64\n",
            " 9   Visibility(mi)     98364 non-null  float64\n",
            " 10  Wind_Direction     98364 non-null  object \n",
            " 11  Wind_Speed(mph)    98364 non-null  float64\n",
            " 12  Precipitation(in)  98364 non-null  float64\n",
            " 13  Weather_Condition  98364 non-null  object \n",
            " 14  Amenity            98364 non-null  bool   \n",
            " 15  Bump               98364 non-null  bool   \n",
            " 16  Crossing           98364 non-null  bool   \n",
            " 17  Give_Way           98364 non-null  bool   \n",
            " 18  Junction           98364 non-null  bool   \n",
            " 19  No_Exit            98364 non-null  bool   \n",
            " 20  Railway            98364 non-null  bool   \n",
            " 21  Roundabout         98364 non-null  bool   \n",
            " 22  Station            98364 non-null  bool   \n",
            " 23  Stop               98364 non-null  bool   \n",
            " 24  Traffic_Calming    98364 non-null  bool   \n",
            " 25  Traffic_Signal     98364 non-null  bool   \n",
            " 26  Civil_Twilight     98364 non-null  object \n",
            " 27  Year               98364 non-null  float64\n",
            " 28  Month              98364 non-null  float64\n",
            " 29  Weekday            98364 non-null  float64\n",
            " 30  Day                98364 non-null  float64\n",
            " 31  Hour               98364 non-null  float64\n",
            " 32  Minute             98364 non-null  float64\n",
            "dtypes: bool(12), float64(15), int64(1), object(5)\n",
            "memory usage: 17.6+ MB\n"
          ]
        }
      ]
    },
    {
      "cell_type": "code",
      "source": [
        "categorical_features = [\"Side\", \"City\", \"Wind_Direction\", \"Weather_Condition\", \"Civil_Twilight\"]\n",
        "X[categorical_features] = X[categorical_features].astype(\"category\")\n",
        "X.info()"
      ],
      "metadata": {
        "colab": {
          "base_uri": "https://localhost:8080/"
        },
        "id": "X2W38bfkHANo",
        "outputId": "cc10aabc-d8e6-4ea1-b891-3e0d9cb34d77"
      },
      "execution_count": 76,
      "outputs": [
        {
          "output_type": "stream",
          "name": "stdout",
          "text": [
            "<class 'pandas.core.frame.DataFrame'>\n",
            "Int64Index: 98364 entries, 2077389 to 2468121\n",
            "Data columns (total 33 columns):\n",
            " #   Column             Non-Null Count  Dtype   \n",
            "---  ------             --------------  -----   \n",
            " 0   Severity           98364 non-null  int64   \n",
            " 1   Start_Lat          98364 non-null  float64 \n",
            " 2   Start_Lng          98364 non-null  float64 \n",
            " 3   Distance(mi)       98364 non-null  float64 \n",
            " 4   Side               98364 non-null  category\n",
            " 5   City               98364 non-null  category\n",
            " 6   Temperature(F)     98364 non-null  float64 \n",
            " 7   Humidity(%)        98364 non-null  float64 \n",
            " 8   Pressure(in)       98364 non-null  float64 \n",
            " 9   Visibility(mi)     98364 non-null  float64 \n",
            " 10  Wind_Direction     98364 non-null  category\n",
            " 11  Wind_Speed(mph)    98364 non-null  float64 \n",
            " 12  Precipitation(in)  98364 non-null  float64 \n",
            " 13  Weather_Condition  98364 non-null  category\n",
            " 14  Amenity            98364 non-null  bool    \n",
            " 15  Bump               98364 non-null  bool    \n",
            " 16  Crossing           98364 non-null  bool    \n",
            " 17  Give_Way           98364 non-null  bool    \n",
            " 18  Junction           98364 non-null  bool    \n",
            " 19  No_Exit            98364 non-null  bool    \n",
            " 20  Railway            98364 non-null  bool    \n",
            " 21  Roundabout         98364 non-null  bool    \n",
            " 22  Station            98364 non-null  bool    \n",
            " 23  Stop               98364 non-null  bool    \n",
            " 24  Traffic_Calming    98364 non-null  bool    \n",
            " 25  Traffic_Signal     98364 non-null  bool    \n",
            " 26  Civil_Twilight     98364 non-null  category\n",
            " 27  Year               98364 non-null  float64 \n",
            " 28  Month              98364 non-null  float64 \n",
            " 29  Weekday            98364 non-null  float64 \n",
            " 30  Day                98364 non-null  float64 \n",
            " 31  Hour               98364 non-null  float64 \n",
            " 32  Minute             98364 non-null  float64 \n",
            "dtypes: bool(12), category(5), float64(15), int64(1)\n",
            "memory usage: 14.8 MB\n"
          ]
        }
      ]
    },
    {
      "cell_type": "code",
      "source": [
        "onehot_cols = [\"Side\", \"Wind_Direction\", \"Weather_Condition\", \"Civil_Twilight\"]\n",
        "\n",
        "X = pd.get_dummies(X, columns=onehot_cols, drop_first=True)\n",
        "\n",
        "X.head()"
      ],
      "metadata": {
        "colab": {
          "base_uri": "https://localhost:8080/",
          "height": 334
        },
        "id": "52LxgMlNJbM1",
        "outputId": "943f00a6-1bc8-4aba-b89e-a6e7398ea47c"
      },
      "execution_count": 82,
      "outputs": [
        {
          "output_type": "execute_result",
          "data": {
            "text/plain": [
              "         Severity  Start_Lat  Start_Lng  Distance(mi)             City  \\\n",
              "2077389         1   0.086263   0.782952           0.0  West Palm Beach   \n",
              "2078194         1   0.881541   0.022785           0.0       Clatskanie   \n",
              "2101751         1   0.435880   0.770948           0.0        Charlotte   \n",
              "2281641         1   0.313461   0.239789           0.0           Tucson   \n",
              "2080840         1   0.852946   0.030051           0.0         Portland   \n",
              "\n",
              "         Temperature(F)  Humidity(%)  Pressure(in)  Visibility(mi)  \\\n",
              "2077389        0.821256     0.877551      0.905097        0.025000   \n",
              "2078194        0.758454     0.489796      0.899824        0.083333   \n",
              "2101751        0.700483     0.795918      0.815466        0.083333   \n",
              "2281641        0.874396     0.061224      0.650264        0.066667   \n",
              "2080840        0.845411     0.336735      0.867311        0.083333   \n",
              "\n",
              "         Wind_Speed(mph)  ...  Weather_Condition_Cloudy  \\\n",
              "2077389         0.014837  ...                         0   \n",
              "2078194         0.014837  ...                         0   \n",
              "2101751         0.021195  ...                         0   \n",
              "2281641         0.021195  ...                         0   \n",
              "2080840         0.006359  ...                         0   \n",
              "\n",
              "         Weather_Condition_Fog  Weather_Condition_Hail  \\\n",
              "2077389                      0                       0   \n",
              "2078194                      0                       0   \n",
              "2101751                      0                       0   \n",
              "2281641                      0                       0   \n",
              "2080840                      0                       0   \n",
              "\n",
              "         Weather_Condition_Rain  Weather_Condition_Sand  \\\n",
              "2077389                       1                       0   \n",
              "2078194                       0                       0   \n",
              "2101751                       1                       0   \n",
              "2281641                       0                       0   \n",
              "2080840                       0                       0   \n",
              "\n",
              "         Weather_Condition_Smoke  Weather_Condition_Snow  \\\n",
              "2077389                        0                       0   \n",
              "2078194                        0                       0   \n",
              "2101751                        0                       0   \n",
              "2281641                        0                       0   \n",
              "2080840                        0                       0   \n",
              "\n",
              "         Weather_Condition_Thunderstorm  Weather_Condition_Windy  \\\n",
              "2077389                               0                        0   \n",
              "2078194                               0                        0   \n",
              "2101751                               0                        0   \n",
              "2281641                               0                        0   \n",
              "2080840                               0                        0   \n",
              "\n",
              "         Civil_Twilight_Night  \n",
              "2077389                     0  \n",
              "2078194                     0  \n",
              "2101751                     0  \n",
              "2281641                     0  \n",
              "2080840                     0  \n",
              "\n",
              "[5 rows x 49 columns]"
            ],
            "text/html": [
              "\n",
              "  <div id=\"df-1e0ec1d0-aedd-414d-a65d-7591bc5add44\">\n",
              "    <div class=\"colab-df-container\">\n",
              "      <div>\n",
              "<style scoped>\n",
              "    .dataframe tbody tr th:only-of-type {\n",
              "        vertical-align: middle;\n",
              "    }\n",
              "\n",
              "    .dataframe tbody tr th {\n",
              "        vertical-align: top;\n",
              "    }\n",
              "\n",
              "    .dataframe thead th {\n",
              "        text-align: right;\n",
              "    }\n",
              "</style>\n",
              "<table border=\"1\" class=\"dataframe\">\n",
              "  <thead>\n",
              "    <tr style=\"text-align: right;\">\n",
              "      <th></th>\n",
              "      <th>Severity</th>\n",
              "      <th>Start_Lat</th>\n",
              "      <th>Start_Lng</th>\n",
              "      <th>Distance(mi)</th>\n",
              "      <th>City</th>\n",
              "      <th>Temperature(F)</th>\n",
              "      <th>Humidity(%)</th>\n",
              "      <th>Pressure(in)</th>\n",
              "      <th>Visibility(mi)</th>\n",
              "      <th>Wind_Speed(mph)</th>\n",
              "      <th>...</th>\n",
              "      <th>Weather_Condition_Cloudy</th>\n",
              "      <th>Weather_Condition_Fog</th>\n",
              "      <th>Weather_Condition_Hail</th>\n",
              "      <th>Weather_Condition_Rain</th>\n",
              "      <th>Weather_Condition_Sand</th>\n",
              "      <th>Weather_Condition_Smoke</th>\n",
              "      <th>Weather_Condition_Snow</th>\n",
              "      <th>Weather_Condition_Thunderstorm</th>\n",
              "      <th>Weather_Condition_Windy</th>\n",
              "      <th>Civil_Twilight_Night</th>\n",
              "    </tr>\n",
              "  </thead>\n",
              "  <tbody>\n",
              "    <tr>\n",
              "      <th>2077389</th>\n",
              "      <td>1</td>\n",
              "      <td>0.086263</td>\n",
              "      <td>0.782952</td>\n",
              "      <td>0.0</td>\n",
              "      <td>West Palm Beach</td>\n",
              "      <td>0.821256</td>\n",
              "      <td>0.877551</td>\n",
              "      <td>0.905097</td>\n",
              "      <td>0.025000</td>\n",
              "      <td>0.014837</td>\n",
              "      <td>...</td>\n",
              "      <td>0</td>\n",
              "      <td>0</td>\n",
              "      <td>0</td>\n",
              "      <td>1</td>\n",
              "      <td>0</td>\n",
              "      <td>0</td>\n",
              "      <td>0</td>\n",
              "      <td>0</td>\n",
              "      <td>0</td>\n",
              "      <td>0</td>\n",
              "    </tr>\n",
              "    <tr>\n",
              "      <th>2078194</th>\n",
              "      <td>1</td>\n",
              "      <td>0.881541</td>\n",
              "      <td>0.022785</td>\n",
              "      <td>0.0</td>\n",
              "      <td>Clatskanie</td>\n",
              "      <td>0.758454</td>\n",
              "      <td>0.489796</td>\n",
              "      <td>0.899824</td>\n",
              "      <td>0.083333</td>\n",
              "      <td>0.014837</td>\n",
              "      <td>...</td>\n",
              "      <td>0</td>\n",
              "      <td>0</td>\n",
              "      <td>0</td>\n",
              "      <td>0</td>\n",
              "      <td>0</td>\n",
              "      <td>0</td>\n",
              "      <td>0</td>\n",
              "      <td>0</td>\n",
              "      <td>0</td>\n",
              "      <td>0</td>\n",
              "    </tr>\n",
              "    <tr>\n",
              "      <th>2101751</th>\n",
              "      <td>1</td>\n",
              "      <td>0.435880</td>\n",
              "      <td>0.770948</td>\n",
              "      <td>0.0</td>\n",
              "      <td>Charlotte</td>\n",
              "      <td>0.700483</td>\n",
              "      <td>0.795918</td>\n",
              "      <td>0.815466</td>\n",
              "      <td>0.083333</td>\n",
              "      <td>0.021195</td>\n",
              "      <td>...</td>\n",
              "      <td>0</td>\n",
              "      <td>0</td>\n",
              "      <td>0</td>\n",
              "      <td>1</td>\n",
              "      <td>0</td>\n",
              "      <td>0</td>\n",
              "      <td>0</td>\n",
              "      <td>0</td>\n",
              "      <td>0</td>\n",
              "      <td>0</td>\n",
              "    </tr>\n",
              "    <tr>\n",
              "      <th>2281641</th>\n",
              "      <td>1</td>\n",
              "      <td>0.313461</td>\n",
              "      <td>0.239789</td>\n",
              "      <td>0.0</td>\n",
              "      <td>Tucson</td>\n",
              "      <td>0.874396</td>\n",
              "      <td>0.061224</td>\n",
              "      <td>0.650264</td>\n",
              "      <td>0.066667</td>\n",
              "      <td>0.021195</td>\n",
              "      <td>...</td>\n",
              "      <td>0</td>\n",
              "      <td>0</td>\n",
              "      <td>0</td>\n",
              "      <td>0</td>\n",
              "      <td>0</td>\n",
              "      <td>0</td>\n",
              "      <td>0</td>\n",
              "      <td>0</td>\n",
              "      <td>0</td>\n",
              "      <td>0</td>\n",
              "    </tr>\n",
              "    <tr>\n",
              "      <th>2080840</th>\n",
              "      <td>1</td>\n",
              "      <td>0.852946</td>\n",
              "      <td>0.030051</td>\n",
              "      <td>0.0</td>\n",
              "      <td>Portland</td>\n",
              "      <td>0.845411</td>\n",
              "      <td>0.336735</td>\n",
              "      <td>0.867311</td>\n",
              "      <td>0.083333</td>\n",
              "      <td>0.006359</td>\n",
              "      <td>...</td>\n",
              "      <td>0</td>\n",
              "      <td>0</td>\n",
              "      <td>0</td>\n",
              "      <td>0</td>\n",
              "      <td>0</td>\n",
              "      <td>0</td>\n",
              "      <td>0</td>\n",
              "      <td>0</td>\n",
              "      <td>0</td>\n",
              "      <td>0</td>\n",
              "    </tr>\n",
              "  </tbody>\n",
              "</table>\n",
              "<p>5 rows × 49 columns</p>\n",
              "</div>\n",
              "      <button class=\"colab-df-convert\" onclick=\"convertToInteractive('df-1e0ec1d0-aedd-414d-a65d-7591bc5add44')\"\n",
              "              title=\"Convert this dataframe to an interactive table.\"\n",
              "              style=\"display:none;\">\n",
              "        \n",
              "  <svg xmlns=\"http://www.w3.org/2000/svg\" height=\"24px\"viewBox=\"0 0 24 24\"\n",
              "       width=\"24px\">\n",
              "    <path d=\"M0 0h24v24H0V0z\" fill=\"none\"/>\n",
              "    <path d=\"M18.56 5.44l.94 2.06.94-2.06 2.06-.94-2.06-.94-.94-2.06-.94 2.06-2.06.94zm-11 1L8.5 8.5l.94-2.06 2.06-.94-2.06-.94L8.5 2.5l-.94 2.06-2.06.94zm10 10l.94 2.06.94-2.06 2.06-.94-2.06-.94-.94-2.06-.94 2.06-2.06.94z\"/><path d=\"M17.41 7.96l-1.37-1.37c-.4-.4-.92-.59-1.43-.59-.52 0-1.04.2-1.43.59L10.3 9.45l-7.72 7.72c-.78.78-.78 2.05 0 2.83L4 21.41c.39.39.9.59 1.41.59.51 0 1.02-.2 1.41-.59l7.78-7.78 2.81-2.81c.8-.78.8-2.07 0-2.86zM5.41 20L4 18.59l7.72-7.72 1.47 1.35L5.41 20z\"/>\n",
              "  </svg>\n",
              "      </button>\n",
              "      \n",
              "  <style>\n",
              "    .colab-df-container {\n",
              "      display:flex;\n",
              "      flex-wrap:wrap;\n",
              "      gap: 12px;\n",
              "    }\n",
              "\n",
              "    .colab-df-convert {\n",
              "      background-color: #E8F0FE;\n",
              "      border: none;\n",
              "      border-radius: 50%;\n",
              "      cursor: pointer;\n",
              "      display: none;\n",
              "      fill: #1967D2;\n",
              "      height: 32px;\n",
              "      padding: 0 0 0 0;\n",
              "      width: 32px;\n",
              "    }\n",
              "\n",
              "    .colab-df-convert:hover {\n",
              "      background-color: #E2EBFA;\n",
              "      box-shadow: 0px 1px 2px rgba(60, 64, 67, 0.3), 0px 1px 3px 1px rgba(60, 64, 67, 0.15);\n",
              "      fill: #174EA6;\n",
              "    }\n",
              "\n",
              "    [theme=dark] .colab-df-convert {\n",
              "      background-color: #3B4455;\n",
              "      fill: #D2E3FC;\n",
              "    }\n",
              "\n",
              "    [theme=dark] .colab-df-convert:hover {\n",
              "      background-color: #434B5C;\n",
              "      box-shadow: 0px 1px 3px 1px rgba(0, 0, 0, 0.15);\n",
              "      filter: drop-shadow(0px 1px 2px rgba(0, 0, 0, 0.3));\n",
              "      fill: #FFFFFF;\n",
              "    }\n",
              "  </style>\n",
              "\n",
              "      <script>\n",
              "        const buttonEl =\n",
              "          document.querySelector('#df-1e0ec1d0-aedd-414d-a65d-7591bc5add44 button.colab-df-convert');\n",
              "        buttonEl.style.display =\n",
              "          google.colab.kernel.accessAllowed ? 'block' : 'none';\n",
              "\n",
              "        async function convertToInteractive(key) {\n",
              "          const element = document.querySelector('#df-1e0ec1d0-aedd-414d-a65d-7591bc5add44');\n",
              "          const dataTable =\n",
              "            await google.colab.kernel.invokeFunction('convertToInteractive',\n",
              "                                                     [key], {});\n",
              "          if (!dataTable) return;\n",
              "\n",
              "          const docLinkHtml = 'Like what you see? Visit the ' +\n",
              "            '<a target=\"_blank\" href=https://colab.research.google.com/notebooks/data_table.ipynb>data table notebook</a>'\n",
              "            + ' to learn more about interactive tables.';\n",
              "          element.innerHTML = '';\n",
              "          dataTable['output_type'] = 'display_data';\n",
              "          await google.colab.output.renderOutput(dataTable, element);\n",
              "          const docLink = document.createElement('div');\n",
              "          docLink.innerHTML = docLinkHtml;\n",
              "          element.appendChild(docLink);\n",
              "        }\n",
              "      </script>\n",
              "    </div>\n",
              "  </div>\n",
              "  "
            ]
          },
          "metadata": {},
          "execution_count": 82
        }
      ]
    },
    {
      "cell_type": "markdown",
      "source": [
        "encoding boolean values"
      ],
      "metadata": {
        "id": "Jy4kVOCLJAeP"
      }
    },
    {
      "cell_type": "code",
      "source": [
        "X = X.replace([True, False], [1, 0])"
      ],
      "metadata": {
        "id": "jWHbcjjaI_3N"
      },
      "execution_count": 77,
      "outputs": []
    },
    {
      "cell_type": "code",
      "source": [
        "X[\"City\"].nunique()"
      ],
      "metadata": {
        "colab": {
          "base_uri": "https://localhost:8080/"
        },
        "id": "7WZZVvaMLYJj",
        "outputId": "c63afc17-75d3-481e-8b41-2ac9b2509ed4"
      },
      "execution_count": 88,
      "outputs": [
        {
          "output_type": "execute_result",
          "data": {
            "text/plain": [
              "6837"
            ]
          },
          "metadata": {},
          "execution_count": 88
        }
      ]
    },
    {
      "cell_type": "code",
      "source": [
        "! pip install --upgrade category_encoders"
      ],
      "metadata": {
        "colab": {
          "base_uri": "https://localhost:8080/"
        },
        "id": "TUblPSuCOh5z",
        "outputId": "476a1ff2-edb8-43a1-b5ce-798f896597b9"
      },
      "execution_count": 91,
      "outputs": [
        {
          "output_type": "stream",
          "name": "stdout",
          "text": [
            "Collecting category_encoders\n",
            "  Downloading category_encoders-2.4.1-py2.py3-none-any.whl (80 kB)\n",
            "\u001b[?25l\r\u001b[K     |████                            | 10 kB 18.6 MB/s eta 0:00:01\r\u001b[K     |████████                        | 20 kB 11.3 MB/s eta 0:00:01\r\u001b[K     |████████████▏                   | 30 kB 8.6 MB/s eta 0:00:01\r\u001b[K     |████████████████▏               | 40 kB 8.1 MB/s eta 0:00:01\r\u001b[K     |████████████████████▎           | 51 kB 4.2 MB/s eta 0:00:01\r\u001b[K     |████████████████████████▎       | 61 kB 4.8 MB/s eta 0:00:01\r\u001b[K     |████████████████████████████▍   | 71 kB 5.2 MB/s eta 0:00:01\r\u001b[K     |████████████████████████████████| 80 kB 3.6 MB/s \n",
            "\u001b[?25hRequirement already satisfied: scipy>=1.0.0 in /usr/local/lib/python3.7/dist-packages (from category_encoders) (1.4.1)\n",
            "Requirement already satisfied: pandas>=0.21.1 in /usr/local/lib/python3.7/dist-packages (from category_encoders) (1.3.5)\n",
            "Requirement already satisfied: numpy>=1.14.0 in /usr/local/lib/python3.7/dist-packages (from category_encoders) (1.21.6)\n",
            "Requirement already satisfied: scikit-learn>=0.20.0 in /usr/local/lib/python3.7/dist-packages (from category_encoders) (1.0.2)\n",
            "Requirement already satisfied: statsmodels>=0.9.0 in /usr/local/lib/python3.7/dist-packages (from category_encoders) (0.10.2)\n",
            "Requirement already satisfied: patsy>=0.5.1 in /usr/local/lib/python3.7/dist-packages (from category_encoders) (0.5.2)\n",
            "Requirement already satisfied: pytz>=2017.3 in /usr/local/lib/python3.7/dist-packages (from pandas>=0.21.1->category_encoders) (2022.1)\n",
            "Requirement already satisfied: python-dateutil>=2.7.3 in /usr/local/lib/python3.7/dist-packages (from pandas>=0.21.1->category_encoders) (2.8.2)\n",
            "Requirement already satisfied: six in /usr/local/lib/python3.7/dist-packages (from patsy>=0.5.1->category_encoders) (1.15.0)\n",
            "Requirement already satisfied: joblib>=0.11 in /usr/local/lib/python3.7/dist-packages (from scikit-learn>=0.20.0->category_encoders) (1.1.0)\n",
            "Requirement already satisfied: threadpoolctl>=2.0.0 in /usr/local/lib/python3.7/dist-packages (from scikit-learn>=0.20.0->category_encoders) (3.1.0)\n",
            "Installing collected packages: category-encoders\n",
            "Successfully installed category-encoders-2.4.1\n"
          ]
        }
      ]
    },
    {
      "cell_type": "code",
      "source": [
        "from sklearn.preprocessing import label_binarize\n",
        "import category_encoders as ce\n",
        "binary_encoder = ce.binary.BinaryEncoder()\n",
        "\n",
        "city_binary_enc = binary_encoder.fit_transform(X[\"City\"])\n",
        "city_binary_enc"
      ],
      "metadata": {
        "colab": {
          "base_uri": "https://localhost:8080/",
          "height": 478
        },
        "id": "U9W0uWVeNiWc",
        "outputId": "31716426-6ecd-4f9d-bc7b-3ccbe3225168"
      },
      "execution_count": 92,
      "outputs": [
        {
          "output_type": "stream",
          "name": "stderr",
          "text": [
            "/usr/local/lib/python3.7/dist-packages/statsmodels/tools/_testing.py:19: FutureWarning: pandas.util.testing is deprecated. Use the functions in the public API at pandas.testing instead.\n",
            "  import pandas.util.testing as tm\n"
          ]
        },
        {
          "output_type": "execute_result",
          "data": {
            "text/plain": [
              "         City_0  City_1  City_2  City_3  City_4  City_5  City_6  City_7  \\\n",
              "2077389       0       0       0       0       0       0       0       0   \n",
              "2078194       0       0       0       0       0       0       0       0   \n",
              "2101751       0       0       0       0       0       0       0       0   \n",
              "2281641       0       0       0       0       0       0       0       0   \n",
              "2080840       0       0       0       0       0       0       0       0   \n",
              "...         ...     ...     ...     ...     ...     ...     ...     ...   \n",
              "205600        0       0       0       0       1       1       1       1   \n",
              "2796572       0       1       1       1       0       0       1       1   \n",
              "2668533       0       0       0       0       0       1       1       1   \n",
              "159039        1       0       0       0       1       1       0       0   \n",
              "2468121       0       0       0       0       0       0       1       1   \n",
              "\n",
              "         City_8  City_9  City_10  City_11  City_12  \n",
              "2077389       0       0        0        0        1  \n",
              "2078194       0       0        0        1        0  \n",
              "2101751       0       0        0        1        1  \n",
              "2281641       0       0        1        0        0  \n",
              "2080840       0       0        1        0        1  \n",
              "...         ...     ...      ...      ...      ...  \n",
              "205600        1       1        0        0        1  \n",
              "2796572       0       1        1        1        1  \n",
              "2668533       0       0        0        1        0  \n",
              "159039        0       0        0        0        0  \n",
              "2468121       0       0        1        1        0  \n",
              "\n",
              "[98364 rows x 13 columns]"
            ],
            "text/html": [
              "\n",
              "  <div id=\"df-fc6c6921-8982-4b1a-a799-5815cebd132e\">\n",
              "    <div class=\"colab-df-container\">\n",
              "      <div>\n",
              "<style scoped>\n",
              "    .dataframe tbody tr th:only-of-type {\n",
              "        vertical-align: middle;\n",
              "    }\n",
              "\n",
              "    .dataframe tbody tr th {\n",
              "        vertical-align: top;\n",
              "    }\n",
              "\n",
              "    .dataframe thead th {\n",
              "        text-align: right;\n",
              "    }\n",
              "</style>\n",
              "<table border=\"1\" class=\"dataframe\">\n",
              "  <thead>\n",
              "    <tr style=\"text-align: right;\">\n",
              "      <th></th>\n",
              "      <th>City_0</th>\n",
              "      <th>City_1</th>\n",
              "      <th>City_2</th>\n",
              "      <th>City_3</th>\n",
              "      <th>City_4</th>\n",
              "      <th>City_5</th>\n",
              "      <th>City_6</th>\n",
              "      <th>City_7</th>\n",
              "      <th>City_8</th>\n",
              "      <th>City_9</th>\n",
              "      <th>City_10</th>\n",
              "      <th>City_11</th>\n",
              "      <th>City_12</th>\n",
              "    </tr>\n",
              "  </thead>\n",
              "  <tbody>\n",
              "    <tr>\n",
              "      <th>2077389</th>\n",
              "      <td>0</td>\n",
              "      <td>0</td>\n",
              "      <td>0</td>\n",
              "      <td>0</td>\n",
              "      <td>0</td>\n",
              "      <td>0</td>\n",
              "      <td>0</td>\n",
              "      <td>0</td>\n",
              "      <td>0</td>\n",
              "      <td>0</td>\n",
              "      <td>0</td>\n",
              "      <td>0</td>\n",
              "      <td>1</td>\n",
              "    </tr>\n",
              "    <tr>\n",
              "      <th>2078194</th>\n",
              "      <td>0</td>\n",
              "      <td>0</td>\n",
              "      <td>0</td>\n",
              "      <td>0</td>\n",
              "      <td>0</td>\n",
              "      <td>0</td>\n",
              "      <td>0</td>\n",
              "      <td>0</td>\n",
              "      <td>0</td>\n",
              "      <td>0</td>\n",
              "      <td>0</td>\n",
              "      <td>1</td>\n",
              "      <td>0</td>\n",
              "    </tr>\n",
              "    <tr>\n",
              "      <th>2101751</th>\n",
              "      <td>0</td>\n",
              "      <td>0</td>\n",
              "      <td>0</td>\n",
              "      <td>0</td>\n",
              "      <td>0</td>\n",
              "      <td>0</td>\n",
              "      <td>0</td>\n",
              "      <td>0</td>\n",
              "      <td>0</td>\n",
              "      <td>0</td>\n",
              "      <td>0</td>\n",
              "      <td>1</td>\n",
              "      <td>1</td>\n",
              "    </tr>\n",
              "    <tr>\n",
              "      <th>2281641</th>\n",
              "      <td>0</td>\n",
              "      <td>0</td>\n",
              "      <td>0</td>\n",
              "      <td>0</td>\n",
              "      <td>0</td>\n",
              "      <td>0</td>\n",
              "      <td>0</td>\n",
              "      <td>0</td>\n",
              "      <td>0</td>\n",
              "      <td>0</td>\n",
              "      <td>1</td>\n",
              "      <td>0</td>\n",
              "      <td>0</td>\n",
              "    </tr>\n",
              "    <tr>\n",
              "      <th>2080840</th>\n",
              "      <td>0</td>\n",
              "      <td>0</td>\n",
              "      <td>0</td>\n",
              "      <td>0</td>\n",
              "      <td>0</td>\n",
              "      <td>0</td>\n",
              "      <td>0</td>\n",
              "      <td>0</td>\n",
              "      <td>0</td>\n",
              "      <td>0</td>\n",
              "      <td>1</td>\n",
              "      <td>0</td>\n",
              "      <td>1</td>\n",
              "    </tr>\n",
              "    <tr>\n",
              "      <th>...</th>\n",
              "      <td>...</td>\n",
              "      <td>...</td>\n",
              "      <td>...</td>\n",
              "      <td>...</td>\n",
              "      <td>...</td>\n",
              "      <td>...</td>\n",
              "      <td>...</td>\n",
              "      <td>...</td>\n",
              "      <td>...</td>\n",
              "      <td>...</td>\n",
              "      <td>...</td>\n",
              "      <td>...</td>\n",
              "      <td>...</td>\n",
              "    </tr>\n",
              "    <tr>\n",
              "      <th>205600</th>\n",
              "      <td>0</td>\n",
              "      <td>0</td>\n",
              "      <td>0</td>\n",
              "      <td>0</td>\n",
              "      <td>1</td>\n",
              "      <td>1</td>\n",
              "      <td>1</td>\n",
              "      <td>1</td>\n",
              "      <td>1</td>\n",
              "      <td>1</td>\n",
              "      <td>0</td>\n",
              "      <td>0</td>\n",
              "      <td>1</td>\n",
              "    </tr>\n",
              "    <tr>\n",
              "      <th>2796572</th>\n",
              "      <td>0</td>\n",
              "      <td>1</td>\n",
              "      <td>1</td>\n",
              "      <td>1</td>\n",
              "      <td>0</td>\n",
              "      <td>0</td>\n",
              "      <td>1</td>\n",
              "      <td>1</td>\n",
              "      <td>0</td>\n",
              "      <td>1</td>\n",
              "      <td>1</td>\n",
              "      <td>1</td>\n",
              "      <td>1</td>\n",
              "    </tr>\n",
              "    <tr>\n",
              "      <th>2668533</th>\n",
              "      <td>0</td>\n",
              "      <td>0</td>\n",
              "      <td>0</td>\n",
              "      <td>0</td>\n",
              "      <td>0</td>\n",
              "      <td>1</td>\n",
              "      <td>1</td>\n",
              "      <td>1</td>\n",
              "      <td>0</td>\n",
              "      <td>0</td>\n",
              "      <td>0</td>\n",
              "      <td>1</td>\n",
              "      <td>0</td>\n",
              "    </tr>\n",
              "    <tr>\n",
              "      <th>159039</th>\n",
              "      <td>1</td>\n",
              "      <td>0</td>\n",
              "      <td>0</td>\n",
              "      <td>0</td>\n",
              "      <td>1</td>\n",
              "      <td>1</td>\n",
              "      <td>0</td>\n",
              "      <td>0</td>\n",
              "      <td>0</td>\n",
              "      <td>0</td>\n",
              "      <td>0</td>\n",
              "      <td>0</td>\n",
              "      <td>0</td>\n",
              "    </tr>\n",
              "    <tr>\n",
              "      <th>2468121</th>\n",
              "      <td>0</td>\n",
              "      <td>0</td>\n",
              "      <td>0</td>\n",
              "      <td>0</td>\n",
              "      <td>0</td>\n",
              "      <td>0</td>\n",
              "      <td>1</td>\n",
              "      <td>1</td>\n",
              "      <td>0</td>\n",
              "      <td>0</td>\n",
              "      <td>1</td>\n",
              "      <td>1</td>\n",
              "      <td>0</td>\n",
              "    </tr>\n",
              "  </tbody>\n",
              "</table>\n",
              "<p>98364 rows × 13 columns</p>\n",
              "</div>\n",
              "      <button class=\"colab-df-convert\" onclick=\"convertToInteractive('df-fc6c6921-8982-4b1a-a799-5815cebd132e')\"\n",
              "              title=\"Convert this dataframe to an interactive table.\"\n",
              "              style=\"display:none;\">\n",
              "        \n",
              "  <svg xmlns=\"http://www.w3.org/2000/svg\" height=\"24px\"viewBox=\"0 0 24 24\"\n",
              "       width=\"24px\">\n",
              "    <path d=\"M0 0h24v24H0V0z\" fill=\"none\"/>\n",
              "    <path d=\"M18.56 5.44l.94 2.06.94-2.06 2.06-.94-2.06-.94-.94-2.06-.94 2.06-2.06.94zm-11 1L8.5 8.5l.94-2.06 2.06-.94-2.06-.94L8.5 2.5l-.94 2.06-2.06.94zm10 10l.94 2.06.94-2.06 2.06-.94-2.06-.94-.94-2.06-.94 2.06-2.06.94z\"/><path d=\"M17.41 7.96l-1.37-1.37c-.4-.4-.92-.59-1.43-.59-.52 0-1.04.2-1.43.59L10.3 9.45l-7.72 7.72c-.78.78-.78 2.05 0 2.83L4 21.41c.39.39.9.59 1.41.59.51 0 1.02-.2 1.41-.59l7.78-7.78 2.81-2.81c.8-.78.8-2.07 0-2.86zM5.41 20L4 18.59l7.72-7.72 1.47 1.35L5.41 20z\"/>\n",
              "  </svg>\n",
              "      </button>\n",
              "      \n",
              "  <style>\n",
              "    .colab-df-container {\n",
              "      display:flex;\n",
              "      flex-wrap:wrap;\n",
              "      gap: 12px;\n",
              "    }\n",
              "\n",
              "    .colab-df-convert {\n",
              "      background-color: #E8F0FE;\n",
              "      border: none;\n",
              "      border-radius: 50%;\n",
              "      cursor: pointer;\n",
              "      display: none;\n",
              "      fill: #1967D2;\n",
              "      height: 32px;\n",
              "      padding: 0 0 0 0;\n",
              "      width: 32px;\n",
              "    }\n",
              "\n",
              "    .colab-df-convert:hover {\n",
              "      background-color: #E2EBFA;\n",
              "      box-shadow: 0px 1px 2px rgba(60, 64, 67, 0.3), 0px 1px 3px 1px rgba(60, 64, 67, 0.15);\n",
              "      fill: #174EA6;\n",
              "    }\n",
              "\n",
              "    [theme=dark] .colab-df-convert {\n",
              "      background-color: #3B4455;\n",
              "      fill: #D2E3FC;\n",
              "    }\n",
              "\n",
              "    [theme=dark] .colab-df-convert:hover {\n",
              "      background-color: #434B5C;\n",
              "      box-shadow: 0px 1px 3px 1px rgba(0, 0, 0, 0.15);\n",
              "      filter: drop-shadow(0px 1px 2px rgba(0, 0, 0, 0.3));\n",
              "      fill: #FFFFFF;\n",
              "    }\n",
              "  </style>\n",
              "\n",
              "      <script>\n",
              "        const buttonEl =\n",
              "          document.querySelector('#df-fc6c6921-8982-4b1a-a799-5815cebd132e button.colab-df-convert');\n",
              "        buttonEl.style.display =\n",
              "          google.colab.kernel.accessAllowed ? 'block' : 'none';\n",
              "\n",
              "        async function convertToInteractive(key) {\n",
              "          const element = document.querySelector('#df-fc6c6921-8982-4b1a-a799-5815cebd132e');\n",
              "          const dataTable =\n",
              "            await google.colab.kernel.invokeFunction('convertToInteractive',\n",
              "                                                     [key], {});\n",
              "          if (!dataTable) return;\n",
              "\n",
              "          const docLinkHtml = 'Like what you see? Visit the ' +\n",
              "            '<a target=\"_blank\" href=https://colab.research.google.com/notebooks/data_table.ipynb>data table notebook</a>'\n",
              "            + ' to learn more about interactive tables.';\n",
              "          element.innerHTML = '';\n",
              "          dataTable['output_type'] = 'display_data';\n",
              "          await google.colab.output.renderOutput(dataTable, element);\n",
              "          const docLink = document.createElement('div');\n",
              "          docLink.innerHTML = docLinkHtml;\n",
              "          element.appendChild(docLink);\n",
              "        }\n",
              "      </script>\n",
              "    </div>\n",
              "  </div>\n",
              "  "
            ]
          },
          "metadata": {},
          "execution_count": 92
        }
      ]
    },
    {
      "cell_type": "code",
      "source": [
        "df = pd.concat([X, city_binary_enc], axis=1).drop(\"City\", axis=1)\n",
        "\n",
        "df.head()"
      ],
      "metadata": {
        "colab": {
          "base_uri": "https://localhost:8080/",
          "height": 300
        },
        "id": "Mp-ALggAOmwx",
        "outputId": "d5196627-1c35-43fc-bea0-3bc4a34751ce"
      },
      "execution_count": 93,
      "outputs": [
        {
          "output_type": "execute_result",
          "data": {
            "text/plain": [
              "         Severity  Start_Lat  Start_Lng  Distance(mi)  Temperature(F)  \\\n",
              "2077389         1   0.086263   0.782952           0.0        0.821256   \n",
              "2078194         1   0.881541   0.022785           0.0        0.758454   \n",
              "2101751         1   0.435880   0.770948           0.0        0.700483   \n",
              "2281641         1   0.313461   0.239789           0.0        0.874396   \n",
              "2080840         1   0.852946   0.030051           0.0        0.845411   \n",
              "\n",
              "         Humidity(%)  Pressure(in)  Visibility(mi)  Wind_Speed(mph)  \\\n",
              "2077389     0.877551      0.905097        0.025000         0.014837   \n",
              "2078194     0.489796      0.899824        0.083333         0.014837   \n",
              "2101751     0.795918      0.815466        0.083333         0.021195   \n",
              "2281641     0.061224      0.650264        0.066667         0.021195   \n",
              "2080840     0.336735      0.867311        0.083333         0.006359   \n",
              "\n",
              "         Precipitation(in)  ...  City_3  City_4  City_5  City_6  City_7  \\\n",
              "2077389              0.010  ...       0       0       0       0       0   \n",
              "2078194              0.000  ...       0       0       0       0       0   \n",
              "2101751              0.012  ...       0       0       0       0       0   \n",
              "2281641              0.000  ...       0       0       0       0       0   \n",
              "2080840              0.000  ...       0       0       0       0       0   \n",
              "\n",
              "         City_8  City_9  City_10  City_11  City_12  \n",
              "2077389       0       0        0        0        1  \n",
              "2078194       0       0        0        1        0  \n",
              "2101751       0       0        0        1        1  \n",
              "2281641       0       0        1        0        0  \n",
              "2080840       0       0        1        0        1  \n",
              "\n",
              "[5 rows x 61 columns]"
            ],
            "text/html": [
              "\n",
              "  <div id=\"df-743f756f-26bc-4c24-ba00-c75bfba73ab7\">\n",
              "    <div class=\"colab-df-container\">\n",
              "      <div>\n",
              "<style scoped>\n",
              "    .dataframe tbody tr th:only-of-type {\n",
              "        vertical-align: middle;\n",
              "    }\n",
              "\n",
              "    .dataframe tbody tr th {\n",
              "        vertical-align: top;\n",
              "    }\n",
              "\n",
              "    .dataframe thead th {\n",
              "        text-align: right;\n",
              "    }\n",
              "</style>\n",
              "<table border=\"1\" class=\"dataframe\">\n",
              "  <thead>\n",
              "    <tr style=\"text-align: right;\">\n",
              "      <th></th>\n",
              "      <th>Severity</th>\n",
              "      <th>Start_Lat</th>\n",
              "      <th>Start_Lng</th>\n",
              "      <th>Distance(mi)</th>\n",
              "      <th>Temperature(F)</th>\n",
              "      <th>Humidity(%)</th>\n",
              "      <th>Pressure(in)</th>\n",
              "      <th>Visibility(mi)</th>\n",
              "      <th>Wind_Speed(mph)</th>\n",
              "      <th>Precipitation(in)</th>\n",
              "      <th>...</th>\n",
              "      <th>City_3</th>\n",
              "      <th>City_4</th>\n",
              "      <th>City_5</th>\n",
              "      <th>City_6</th>\n",
              "      <th>City_7</th>\n",
              "      <th>City_8</th>\n",
              "      <th>City_9</th>\n",
              "      <th>City_10</th>\n",
              "      <th>City_11</th>\n",
              "      <th>City_12</th>\n",
              "    </tr>\n",
              "  </thead>\n",
              "  <tbody>\n",
              "    <tr>\n",
              "      <th>2077389</th>\n",
              "      <td>1</td>\n",
              "      <td>0.086263</td>\n",
              "      <td>0.782952</td>\n",
              "      <td>0.0</td>\n",
              "      <td>0.821256</td>\n",
              "      <td>0.877551</td>\n",
              "      <td>0.905097</td>\n",
              "      <td>0.025000</td>\n",
              "      <td>0.014837</td>\n",
              "      <td>0.010</td>\n",
              "      <td>...</td>\n",
              "      <td>0</td>\n",
              "      <td>0</td>\n",
              "      <td>0</td>\n",
              "      <td>0</td>\n",
              "      <td>0</td>\n",
              "      <td>0</td>\n",
              "      <td>0</td>\n",
              "      <td>0</td>\n",
              "      <td>0</td>\n",
              "      <td>1</td>\n",
              "    </tr>\n",
              "    <tr>\n",
              "      <th>2078194</th>\n",
              "      <td>1</td>\n",
              "      <td>0.881541</td>\n",
              "      <td>0.022785</td>\n",
              "      <td>0.0</td>\n",
              "      <td>0.758454</td>\n",
              "      <td>0.489796</td>\n",
              "      <td>0.899824</td>\n",
              "      <td>0.083333</td>\n",
              "      <td>0.014837</td>\n",
              "      <td>0.000</td>\n",
              "      <td>...</td>\n",
              "      <td>0</td>\n",
              "      <td>0</td>\n",
              "      <td>0</td>\n",
              "      <td>0</td>\n",
              "      <td>0</td>\n",
              "      <td>0</td>\n",
              "      <td>0</td>\n",
              "      <td>0</td>\n",
              "      <td>1</td>\n",
              "      <td>0</td>\n",
              "    </tr>\n",
              "    <tr>\n",
              "      <th>2101751</th>\n",
              "      <td>1</td>\n",
              "      <td>0.435880</td>\n",
              "      <td>0.770948</td>\n",
              "      <td>0.0</td>\n",
              "      <td>0.700483</td>\n",
              "      <td>0.795918</td>\n",
              "      <td>0.815466</td>\n",
              "      <td>0.083333</td>\n",
              "      <td>0.021195</td>\n",
              "      <td>0.012</td>\n",
              "      <td>...</td>\n",
              "      <td>0</td>\n",
              "      <td>0</td>\n",
              "      <td>0</td>\n",
              "      <td>0</td>\n",
              "      <td>0</td>\n",
              "      <td>0</td>\n",
              "      <td>0</td>\n",
              "      <td>0</td>\n",
              "      <td>1</td>\n",
              "      <td>1</td>\n",
              "    </tr>\n",
              "    <tr>\n",
              "      <th>2281641</th>\n",
              "      <td>1</td>\n",
              "      <td>0.313461</td>\n",
              "      <td>0.239789</td>\n",
              "      <td>0.0</td>\n",
              "      <td>0.874396</td>\n",
              "      <td>0.061224</td>\n",
              "      <td>0.650264</td>\n",
              "      <td>0.066667</td>\n",
              "      <td>0.021195</td>\n",
              "      <td>0.000</td>\n",
              "      <td>...</td>\n",
              "      <td>0</td>\n",
              "      <td>0</td>\n",
              "      <td>0</td>\n",
              "      <td>0</td>\n",
              "      <td>0</td>\n",
              "      <td>0</td>\n",
              "      <td>0</td>\n",
              "      <td>1</td>\n",
              "      <td>0</td>\n",
              "      <td>0</td>\n",
              "    </tr>\n",
              "    <tr>\n",
              "      <th>2080840</th>\n",
              "      <td>1</td>\n",
              "      <td>0.852946</td>\n",
              "      <td>0.030051</td>\n",
              "      <td>0.0</td>\n",
              "      <td>0.845411</td>\n",
              "      <td>0.336735</td>\n",
              "      <td>0.867311</td>\n",
              "      <td>0.083333</td>\n",
              "      <td>0.006359</td>\n",
              "      <td>0.000</td>\n",
              "      <td>...</td>\n",
              "      <td>0</td>\n",
              "      <td>0</td>\n",
              "      <td>0</td>\n",
              "      <td>0</td>\n",
              "      <td>0</td>\n",
              "      <td>0</td>\n",
              "      <td>0</td>\n",
              "      <td>1</td>\n",
              "      <td>0</td>\n",
              "      <td>1</td>\n",
              "    </tr>\n",
              "  </tbody>\n",
              "</table>\n",
              "<p>5 rows × 61 columns</p>\n",
              "</div>\n",
              "      <button class=\"colab-df-convert\" onclick=\"convertToInteractive('df-743f756f-26bc-4c24-ba00-c75bfba73ab7')\"\n",
              "              title=\"Convert this dataframe to an interactive table.\"\n",
              "              style=\"display:none;\">\n",
              "        \n",
              "  <svg xmlns=\"http://www.w3.org/2000/svg\" height=\"24px\"viewBox=\"0 0 24 24\"\n",
              "       width=\"24px\">\n",
              "    <path d=\"M0 0h24v24H0V0z\" fill=\"none\"/>\n",
              "    <path d=\"M18.56 5.44l.94 2.06.94-2.06 2.06-.94-2.06-.94-.94-2.06-.94 2.06-2.06.94zm-11 1L8.5 8.5l.94-2.06 2.06-.94-2.06-.94L8.5 2.5l-.94 2.06-2.06.94zm10 10l.94 2.06.94-2.06 2.06-.94-2.06-.94-.94-2.06-.94 2.06-2.06.94z\"/><path d=\"M17.41 7.96l-1.37-1.37c-.4-.4-.92-.59-1.43-.59-.52 0-1.04.2-1.43.59L10.3 9.45l-7.72 7.72c-.78.78-.78 2.05 0 2.83L4 21.41c.39.39.9.59 1.41.59.51 0 1.02-.2 1.41-.59l7.78-7.78 2.81-2.81c.8-.78.8-2.07 0-2.86zM5.41 20L4 18.59l7.72-7.72 1.47 1.35L5.41 20z\"/>\n",
              "  </svg>\n",
              "      </button>\n",
              "      \n",
              "  <style>\n",
              "    .colab-df-container {\n",
              "      display:flex;\n",
              "      flex-wrap:wrap;\n",
              "      gap: 12px;\n",
              "    }\n",
              "\n",
              "    .colab-df-convert {\n",
              "      background-color: #E8F0FE;\n",
              "      border: none;\n",
              "      border-radius: 50%;\n",
              "      cursor: pointer;\n",
              "      display: none;\n",
              "      fill: #1967D2;\n",
              "      height: 32px;\n",
              "      padding: 0 0 0 0;\n",
              "      width: 32px;\n",
              "    }\n",
              "\n",
              "    .colab-df-convert:hover {\n",
              "      background-color: #E2EBFA;\n",
              "      box-shadow: 0px 1px 2px rgba(60, 64, 67, 0.3), 0px 1px 3px 1px rgba(60, 64, 67, 0.15);\n",
              "      fill: #174EA6;\n",
              "    }\n",
              "\n",
              "    [theme=dark] .colab-df-convert {\n",
              "      background-color: #3B4455;\n",
              "      fill: #D2E3FC;\n",
              "    }\n",
              "\n",
              "    [theme=dark] .colab-df-convert:hover {\n",
              "      background-color: #434B5C;\n",
              "      box-shadow: 0px 1px 3px 1px rgba(0, 0, 0, 0.15);\n",
              "      filter: drop-shadow(0px 1px 2px rgba(0, 0, 0, 0.3));\n",
              "      fill: #FFFFFF;\n",
              "    }\n",
              "  </style>\n",
              "\n",
              "      <script>\n",
              "        const buttonEl =\n",
              "          document.querySelector('#df-743f756f-26bc-4c24-ba00-c75bfba73ab7 button.colab-df-convert');\n",
              "        buttonEl.style.display =\n",
              "          google.colab.kernel.accessAllowed ? 'block' : 'none';\n",
              "\n",
              "        async function convertToInteractive(key) {\n",
              "          const element = document.querySelector('#df-743f756f-26bc-4c24-ba00-c75bfba73ab7');\n",
              "          const dataTable =\n",
              "            await google.colab.kernel.invokeFunction('convertToInteractive',\n",
              "                                                     [key], {});\n",
              "          if (!dataTable) return;\n",
              "\n",
              "          const docLinkHtml = 'Like what you see? Visit the ' +\n",
              "            '<a target=\"_blank\" href=https://colab.research.google.com/notebooks/data_table.ipynb>data table notebook</a>'\n",
              "            + ' to learn more about interactive tables.';\n",
              "          element.innerHTML = '';\n",
              "          dataTable['output_type'] = 'display_data';\n",
              "          await google.colab.output.renderOutput(dataTable, element);\n",
              "          const docLink = document.createElement('div');\n",
              "          docLink.innerHTML = docLinkHtml;\n",
              "          element.appendChild(docLink);\n",
              "        }\n",
              "      </script>\n",
              "    </div>\n",
              "  </div>\n",
              "  "
            ]
          },
          "metadata": {},
          "execution_count": 93
        }
      ]
    },
    {
      "cell_type": "code",
      "source": [
        "from sklearn.model_selection import train_test_split\n",
        "X, X_test = train_test_split(df, test_size=.2, random_state=42)\n",
        "print(X.shape, X_test.shape)"
      ],
      "metadata": {
        "colab": {
          "base_uri": "https://localhost:8080/"
        },
        "id": "wgaYiYgmQx5k",
        "outputId": "18e8e9f6-367a-4a44-9637-46d3a37e3d30"
      },
      "execution_count": 97,
      "outputs": [
        {
          "output_type": "stream",
          "name": "stdout",
          "text": [
            "(78691, 61) (19673, 61)\n"
          ]
        }
      ]
    },
    {
      "cell_type": "code",
      "source": [
        "accuracy = dict()"
      ],
      "metadata": {
        "id": "Huj-jL1_f1IK"
      },
      "execution_count": 133,
      "outputs": []
    },
    {
      "cell_type": "markdown",
      "source": [
        "#Logistic Regression"
      ],
      "metadata": {
        "id": "stoAgR2kR4L3"
      }
    },
    {
      "cell_type": "code",
      "source": [
        "sample = X\n",
        "Y_sample = sample[\"Severity\"]\n",
        "X_sample = sample.drop(\"Severity\", axis=1)\n",
        "\n",
        "X_train, X_validate, y_train, y_validate = train_test_split(X_sample, Y_sample, random_state=42)"
      ],
      "metadata": {
        "id": "eI_EGsrkRy7k"
      },
      "execution_count": 134,
      "outputs": []
    },
    {
      "cell_type": "code",
      "source": [
        "print(X_train.shape, y_train.shape)\n",
        "print(X_validate.shape, y_validate.shape)"
      ],
      "metadata": {
        "colab": {
          "base_uri": "https://localhost:8080/"
        },
        "id": "VKvxepOnS5cZ",
        "outputId": "3a728db4-b398-47e8-db4f-df811019c464"
      },
      "execution_count": 135,
      "outputs": [
        {
          "output_type": "stream",
          "name": "stdout",
          "text": [
            "(59018, 60) (59018,)\n",
            "(19673, 60) (19673,)\n"
          ]
        }
      ]
    },
    {
      "cell_type": "code",
      "source": [
        "from sklearn.linear_model import LogisticRegression\n",
        "logmodel = LogisticRegression(random_state=42, n_jobs=-1)\n",
        "\n",
        "logmodel.fit(X_train,y_train)\n"
      ],
      "metadata": {
        "colab": {
          "base_uri": "https://localhost:8080/"
        },
        "id": "mhrKf8S8T8KA",
        "outputId": "59c51982-6fd3-4d12-a7a8-6233b13e611a"
      },
      "execution_count": 136,
      "outputs": [
        {
          "output_type": "execute_result",
          "data": {
            "text/plain": [
              "LogisticRegression(n_jobs=-1, random_state=42)"
            ]
          },
          "metadata": {},
          "execution_count": 136
        }
      ]
    },
    {
      "cell_type": "code",
      "source": [
        "print(\"Train score:\", logmodel.score(X_train, y_train))\n",
        "print(\"Validation score:\", logmodel.score(X_validate, y_validate))"
      ],
      "metadata": {
        "colab": {
          "base_uri": "https://localhost:8080/"
        },
        "id": "wGxHy7eQWDk_",
        "outputId": "0dd5abc1-1e91-4cc6-8da0-690de7e31442"
      },
      "execution_count": 137,
      "outputs": [
        {
          "output_type": "stream",
          "name": "stdout",
          "text": [
            "Train score: 0.6368734962214917\n",
            "Validation score: 0.634575306257307\n"
          ]
        }
      ]
    },
    {
      "cell_type": "code",
      "source": [
        "from sklearn.metrics import accuracy_score, f1_score, roc_curve\n",
        "y_pred = logmodel.predict(X_validate)\n",
        "\n",
        "accuracy[\"logistic regression\"] = accuracy_score(y_validate, y_pred)"
      ],
      "metadata": {
        "id": "rZ0o8jCOWNu8"
      },
      "execution_count": 138,
      "outputs": []
    },
    {
      "cell_type": "code",
      "source": [
        "accuracy[\"logistic regression\"]"
      ],
      "metadata": {
        "colab": {
          "base_uri": "https://localhost:8080/"
        },
        "id": "aYhH2950bI50",
        "outputId": "1d503b68-663d-49d6-8fbc-91b45316a3b7"
      },
      "execution_count": 139,
      "outputs": [
        {
          "output_type": "execute_result",
          "data": {
            "text/plain": [
              "0.634575306257307"
            ]
          },
          "metadata": {},
          "execution_count": 139
        }
      ]
    },
    {
      "cell_type": "code",
      "source": [
        "from sklearn.metrics import confusion_matrix\n",
        "confmat = confusion_matrix(y_true=y_validate, y_pred=y_pred)\n",
        "\n",
        "index = [\"Actual Severity 1\", \"Actual Severity 2\", \"Actual Severity 3\", \"Actual Severity 4\"]\n",
        "columns = [\"Predicted Severity 1\", \"Predicted Severity 2\", \"Predicted Severity 3\", \"Predicted Severity 4\"]\n",
        "conf_matrix = pd.DataFrame(data=confmat, columns=columns, index=index)\n",
        "plt.figure(figsize=(8, 5))\n",
        "sns.heatmap(conf_matrix, annot=True, fmt=\"d\", cmap=\"YlGnBu\")\n",
        "plt.title(\"Confusion Matrix - Logistic Regression\")\n",
        "plt.show()\n"
      ],
      "metadata": {
        "colab": {
          "base_uri": "https://localhost:8080/",
          "height": 426
        },
        "id": "iVjSCeopb4-S",
        "outputId": "4f2c60b8-e6db-4583-df52-491076342a41"
      },
      "execution_count": 119,
      "outputs": [
        {
          "output_type": "display_data",
          "data": {
            "text/plain": [
              "<Figure size 576x360 with 2 Axes>"
            ],
            "image/png": "[encoded data removed]"
          },
          "metadata": {
            "needs_background": "light"
          }
        }
      ]
    },
    {
      "cell_type": "markdown",
      "source": [
        "#Decision Tree"
      ],
      "metadata": {
        "id": "NklgDB5scYBZ"
      }
    },
    {
      "cell_type": "code",
      "source": [
        "sample = X\n",
        "y_sample = sample[\"Severity\"]\n",
        "X_sample = sample.drop(\"Severity\", axis=1)\n",
        "\n",
        "X_train, X_validate, y_train, y_validate = train_test_split(X_sample, y_sample, random_state=42)\n",
        "print(X_train.shape, y_train.shape)\n",
        "print(X_validate.shape, y_validate.shape)"
      ],
      "metadata": {
        "colab": {
          "base_uri": "https://localhost:8080/"
        },
        "id": "5T5QoVoxcZ4E",
        "outputId": "5499f8a3-d16c-4209-b558-ec7ae51afebc"
      },
      "execution_count": 140,
      "outputs": [
        {
          "output_type": "stream",
          "name": "stdout",
          "text": [
            "(59018, 60) (59018,)\n",
            "(19673, 60) (19673,)\n"
          ]
        }
      ]
    },
    {
      "cell_type": "code",
      "source": [
        "from sklearn.tree import DecisionTreeClassifier\n",
        "dtc = DecisionTreeClassifier(random_state=42)\n",
        "dtc.fit(X_train, y_train)"
      ],
      "metadata": {
        "colab": {
          "base_uri": "https://localhost:8080/"
        },
        "id": "DXoEy6OFcqiF",
        "outputId": "49299781-adad-4200-bfbd-d421d07b549e"
      },
      "execution_count": 141,
      "outputs": [
        {
          "output_type": "execute_result",
          "data": {
            "text/plain": [
              "DecisionTreeClassifier(random_state=42)"
            ]
          },
          "metadata": {},
          "execution_count": 141
        }
      ]
    },
    {
      "cell_type": "code",
      "source": [
        "print(\"Train score:\", dtc.score(X_train, y_train))\n",
        "print(\"Validation score:\", dtc.score(X_validate, y_validate))"
      ],
      "metadata": {
        "colab": {
          "base_uri": "https://localhost:8080/"
        },
        "id": "HuUGQP-rdKt0",
        "outputId": "11ebb326-aaae-45ef-b682-00583bbc64da"
      },
      "execution_count": 142,
      "outputs": [
        {
          "output_type": "stream",
          "name": "stdout",
          "text": [
            "Train score: 0.999881392117659\n",
            "Validation score: 0.7005540588624003\n"
          ]
        }
      ]
    },
    {
      "cell_type": "code",
      "source": [
        "y_pred = dtc.predict(X_validate)\n",
        "\n",
        "accuracy[\"Decision tree\"]= accuracy_score(y_validate, y_pred)"
      ],
      "metadata": {
        "id": "D_Jw2fwPdU8j"
      },
      "execution_count": 143,
      "outputs": []
    },
    {
      "cell_type": "code",
      "source": [
        "accuracy[\"Decision tree\"]"
      ],
      "metadata": {
        "colab": {
          "base_uri": "https://localhost:8080/"
        },
        "id": "GIW8ykI1ddfy",
        "outputId": "00fc802e-bde5-4337-9b94-030b5229f626"
      },
      "execution_count": 144,
      "outputs": [
        {
          "output_type": "execute_result",
          "data": {
            "text/plain": [
              "0.7005540588624003"
            ]
          },
          "metadata": {},
          "execution_count": 144
        }
      ]
    },
    {
      "cell_type": "code",
      "source": [
        "confmat = confusion_matrix(y_true=y_validate, y_pred=y_pred)\n",
        "\n",
        "index = [\"Actual Severity 1\", \"Actual Severity 2\", \"Actual Severity 3\", \"Actual Severity 4\"]\n",
        "columns = [\"Predicted Severity 1\", \"Predicted Severity 2\", \"Predicted Severity 3\", \"Predicted Severity 4\"]\n",
        "conf_matrix = pd.DataFrame(data=confmat, columns=columns, index=index)\n",
        "plt.figure(figsize=(8, 5))\n",
        "sns.heatmap(conf_matrix, annot=True, fmt=\"d\", cmap=\"YlGnBu\")\n",
        "plt.title(\"Confusion Matrix - Decision Tree\")\n",
        "plt.show()"
      ],
      "metadata": {
        "colab": {
          "base_uri": "https://localhost:8080/",
          "height": 426
        },
        "id": "FdtGUVjYdn37",
        "outputId": "483351a3-1a44-4fc5-80c7-d9e66dee1032"
      },
      "execution_count": 127,
      "outputs": [
        {
          "output_type": "display_data",
          "data": {
            "text/plain": [
              "<Figure size 576x360 with 2 Axes>"
            ],
            "image/png": "[encoded data removed]"
          },
          "metadata": {
            "needs_background": "light"
          }
        }
      ]
    },
    {
      "cell_type": "markdown",
      "source": [
        "#Random Forest"
      ],
      "metadata": {
        "id": "ARRtU_aOdqwy"
      }
    },
    {
      "cell_type": "code",
      "source": [
        "sample = X\n",
        "y_sample = sample[\"Severity\"]\n",
        "X_sample = sample.drop(\"Severity\", axis=1)\n",
        "\n",
        "X_train, X_validate, y_train, y_validate = train_test_split(X_sample, y_sample, random_state=42)\n",
        "print(X_train.shape, y_train.shape)\n",
        "print(X_validate.shape, y_validate.shape)"
      ],
      "metadata": {
        "colab": {
          "base_uri": "https://localhost:8080/"
        },
        "id": "awaC-gvueBHD",
        "outputId": "f646aade-813b-4731-f770-04fbd9eac4bf"
      },
      "execution_count": 145,
      "outputs": [
        {
          "output_type": "stream",
          "name": "stdout",
          "text": [
            "(59018, 60) (59018,)\n",
            "(19673, 60) (19673,)\n"
          ]
        }
      ]
    },
    {
      "cell_type": "code",
      "source": [
        "from sklearn.ensemble import RandomForestClassifier\n",
        "rfc = RandomForestClassifier(n_jobs=-1, random_state=42)\n",
        "rfc.fit(X_train, y_train)\n",
        "print(\"Train score:\", rfc.score(X_train, y_train))\n",
        "print(\"Validation score:\", rfc.score(X_validate, y_validate))"
      ],
      "metadata": {
        "colab": {
          "base_uri": "https://localhost:8080/"
        },
        "id": "efp_5CfreEY_",
        "outputId": "55881bc5-99db-45f6-df21-39d107d8a5d8"
      },
      "execution_count": 146,
      "outputs": [
        {
          "output_type": "stream",
          "name": "stdout",
          "text": [
            "Train score: 0.999881392117659\n",
            "Validation score: 0.7751740964774055\n"
          ]
        }
      ]
    },
    {
      "cell_type": "code",
      "source": [
        "y_pred = rfc.predict(X_validate)\n",
        "\n",
        "accuracy[\"Random Forest\"] = accuracy_score(y_validate, y_pred)\n"
      ],
      "metadata": {
        "id": "IAQTttY7eYjy"
      },
      "execution_count": 147,
      "outputs": []
    },
    {
      "cell_type": "code",
      "source": [
        "accuracy[\"Random Forest\"]"
      ],
      "metadata": {
        "colab": {
          "base_uri": "https://localhost:8080/"
        },
        "id": "QZ-1rXz2elRe",
        "outputId": "6e5d2141-b242-41d6-fcaf-46edc58ffc2a"
      },
      "execution_count": 148,
      "outputs": [
        {
          "output_type": "execute_result",
          "data": {
            "text/plain": [
              "0.7751740964774055"
            ]
          },
          "metadata": {},
          "execution_count": 148
        }
      ]
    },
    {
      "cell_type": "code",
      "source": [
        "confmat = confusion_matrix(y_true=y_validate, y_pred=y_pred)\n",
        "\n",
        "index = [\"Actual Severity 1\", \"Actual Severity 2\", \"Actual Severity 3\", \"Actual Severity 4\"]\n",
        "columns = [\"Predicted Severity 1\", \"Predicted Severity 2\", \"Predicted Severity 3\", \"Predicted Severity 4\"]\n",
        "conf_matrix = pd.DataFrame(data=confmat, columns=columns, index=index)\n",
        "plt.figure(figsize=(8, 5))\n",
        "sns.heatmap(conf_matrix, annot=True, fmt=\"d\", cmap=\"YlGnBu\")\n",
        "plt.title(\"Confusion Matrix - Random Forest\")\n",
        "plt.show()"
      ],
      "metadata": {
        "colab": {
          "base_uri": "https://localhost:8080/",
          "height": 426
        },
        "id": "hJdgoa58eqCB",
        "outputId": "5ab241a3-e8c4-4da2-f7a7-331da64baba6"
      },
      "execution_count": 132,
      "outputs": [
        {
          "output_type": "display_data",
          "data": {
            "text/plain": [
              "<Figure size 576x360 with 2 Axes>"
            ],
            "image/png": "[encoded data removed]"
          },
          "metadata": {
            "needs_background": "light"
          }
        }
      ]
    },
    {
      "cell_type": "markdown",
      "source": [
        "#Multi Layer Perceptron"
      ],
      "metadata": {
        "id": "Ldt7tGTshOPa"
      }
    },
    {
      "cell_type": "code",
      "source": [
        "sample = X\n",
        "y_sample = sample[\"Severity\"]\n",
        "X_sample = sample.drop(\"Severity\", axis=1)\n",
        "\n",
        "X_train, X_validate, y_train, y_validate = train_test_split(X_sample, y_sample, random_state=42)\n",
        "print(X_train.shape, y_train.shape)\n",
        "print(X_validate.shape, y_validate.shape)"
      ],
      "metadata": {
        "colab": {
          "base_uri": "https://localhost:8080/"
        },
        "id": "Ye3BI5dVhNrQ",
        "outputId": "b5d561ad-08b3-4516-906f-3d4d5539ba50"
      },
      "execution_count": 150,
      "outputs": [
        {
          "output_type": "stream",
          "name": "stdout",
          "text": [
            "(59018, 60) (59018,)\n",
            "(19673, 60) (19673,)\n"
          ]
        }
      ]
    },
    {
      "cell_type": "code",
      "source": [
        "from sklearn.neural_network import MLPClassifier\n",
        "mlp = MLPClassifier(random_state=42, verbose=False)\n",
        "mlp.fit(X_train, y_train)"
      ],
      "metadata": {
        "colab": {
          "base_uri": "https://localhost:8080/"
        },
        "id": "vnPhXm3XhUJ-",
        "outputId": "33f2cf85-2957-4a6a-faa4-543ae357a8b1"
      },
      "execution_count": 151,
      "outputs": [
        {
          "output_type": "stream",
          "name": "stderr",
          "text": [
            "/usr/local/lib/python3.7/dist-packages/sklearn/neural_network/_multilayer_perceptron.py:696: ConvergenceWarning: Stochastic Optimizer: Maximum iterations (200) reached and the optimization hasn't converged yet.\n",
            "  ConvergenceWarning,\n"
          ]
        },
        {
          "output_type": "execute_result",
          "data": {
            "text/plain": [
              "MLPClassifier(random_state=42)"
            ]
          },
          "metadata": {},
          "execution_count": 151
        }
      ]
    },
    {
      "cell_type": "code",
      "source": [
        "print(\"Train score:\", mlp.score(X_train, y_train))\n",
        "print(\"Validation score:\", mlp.score(X_validate, y_validate))"
      ],
      "metadata": {
        "colab": {
          "base_uri": "https://localhost:8080/"
        },
        "id": "kfju4XKqiR7g",
        "outputId": "effb08dc-87b7-4f2b-fd14-891ff812c707"
      },
      "execution_count": 152,
      "outputs": [
        {
          "output_type": "stream",
          "name": "stdout",
          "text": [
            "Train score: 0.7737978243925582\n",
            "Validation score: 0.728816143953642\n"
          ]
        }
      ]
    },
    {
      "cell_type": "code",
      "source": [
        "y_pred = mlp.predict(X_validate)\n",
        "\n",
        "accuracy[\"Multi Layer Perceptron\"] = accuracy_score(y_validate, y_pred)\n"
      ],
      "metadata": {
        "id": "1fpHWa7iimLC"
      },
      "execution_count": 153,
      "outputs": []
    },
    {
      "cell_type": "code",
      "source": [
        "accuracy[\"Multi Layer Perceptron\"]"
      ],
      "metadata": {
        "colab": {
          "base_uri": "https://localhost:8080/"
        },
        "id": "PX88NULTitIw",
        "outputId": "7d1547da-507b-40d7-c710-99d8b44c45d4"
      },
      "execution_count": 154,
      "outputs": [
        {
          "output_type": "execute_result",
          "data": {
            "text/plain": [
              "0.728816143953642"
            ]
          },
          "metadata": {},
          "execution_count": 154
        }
      ]
    },
    {
      "cell_type": "code",
      "source": [
        "confmat = confusion_matrix(y_true=y_validate, y_pred=y_pred)\n",
        "\n",
        "index = [\"Actual Severity 1\", \"Actual Severity 2\", \"Actual Severity 3\", \"Actual Severity 4\"]\n",
        "columns = [\"Predicted Severity 1\", \"Predicted Severity 2\", \"Predicted Severity 3\", \"Predicted Severity 4\"]\n",
        "conf_matrix = pd.DataFrame(data=confmat, columns=columns, index=index)\n",
        "plt.figure(figsize=(8, 5))\n",
        "sns.heatmap(conf_matrix, annot=True, fmt=\"d\", cmap=\"YlGnBu\")\n",
        "plt.title(\"Confusion Matrix - Multi Layer Perceptron\")\n",
        "plt.show()"
      ],
      "metadata": {
        "colab": {
          "base_uri": "https://localhost:8080/",
          "height": 426
        },
        "id": "7UQo3I8pizVl",
        "outputId": "59370277-3851-4d11-dd43-824dc5153bbe"
      },
      "execution_count": 155,
      "outputs": [
        {
          "output_type": "display_data",
          "data": {
            "text/plain": [
              "<Figure size 576x360 with 2 Axes>"
            ],
            "image/png": "[encoded data removed]"
          },
          "metadata": {
            "needs_background": "light"
          }
        }
      ]
    },
    {
      "cell_type": "markdown",
      "source": [
        "#Results"
      ],
      "metadata": {
        "id": "0VcFPfyVfJLA"
      }
    },
    {
      "cell_type": "code",
      "source": [
        "plt.figure(figsize=(20, 8))\n",
        "plt.title(\"Accuracy of each model\")\n",
        "sns.barplot(list(range(len(accuracy))), list(accuracy.values()))\n",
        "plt.xticks(range(len(accuracy)), labels=accuracy.keys())\n",
        "plt.show()"
      ],
      "metadata": {
        "colab": {
          "base_uri": "https://localhost:8080/",
          "height": 554
        },
        "id": "IEVBYvayfIJS",
        "outputId": "8d4f215d-7656-49d3-be0d-d4c9d3275d69"
      },
      "execution_count": 156,
      "outputs": [
        {
          "output_type": "stream",
          "name": "stderr",
          "text": [
            "/usr/local/lib/python3.7/dist-packages/seaborn/_decorators.py:43: FutureWarning: Pass the following variables as keyword args: x, y. From version 0.12, the only valid positional argument will be `data`, and passing other arguments without an explicit keyword will result in an error or misinterpretation.\n",
            "  FutureWarning\n"
          ]
        },
        {
          "output_type": "display_data",
          "data": {
            "text/plain": [
              "<Figure size 1440x576 with 1 Axes>"
            ],
            "image/png": "[encoded data removed]"
          },
          "metadata": {
            "needs_background": "light"
          }
        }
      ]
    }
  ]
}